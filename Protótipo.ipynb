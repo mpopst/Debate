{
 "cells": [
  {
   "cell_type": "code",
   "execution_count": 1,
   "metadata": {
    "collapsed": true
   },
   "outputs": [],
   "source": [
    "import numpy as np\n",
    "import random\n",
    "import networkx as nx"
   ]
  },
  {
   "cell_type": "code",
   "execution_count": 12,
   "metadata": {
    "collapsed": true
   },
   "outputs": [],
   "source": [
    "#GLOBAL\n",
    "pairs = 16 #number of pairs\n",
    "rodada = 6 #rounds\n",
    "rodada_atual = 0\n",
    "juizes = 11"
   ]
  },
  {
   "cell_type": "code",
   "execution_count": 3,
   "metadata": {
    "collapsed": true
   },
   "outputs": [],
   "source": [
    "table = np.zeros(pairs*pairs).reshape(pairs, pairs)\n",
    "power = [random.random() for i in range(pairs)]\n",
    "adj_table = np.zeros(adjucaters*pairs).reshape(adjucaters, pairs)"
   ]
  },
  {
   "cell_type": "code",
   "execution_count": 4,
   "metadata": {},
   "outputs": [
    {
     "data": {
      "text/plain": [
       "[0, 0, 0, 0, 0, 0, 0, 0, 0, 0, 0, 0, 0, 0, 0, 0]"
      ]
     },
     "execution_count": 4,
     "metadata": {},
     "output_type": "execute_result"
    }
   ],
   "source": [
    "debatedores = []\n",
    "for i in range(pairs):\n",
    "    debatedores.append(0)\n",
    "debatedores"
   ]
  },
  {
   "cell_type": "code",
   "execution_count": 5,
   "metadata": {
    "collapsed": true
   },
   "outputs": [],
   "source": [
    "def matchingfunc1(): #fool function\n",
    "    global pairs\n",
    "    A = [i for i in range(pairs)]\n",
    "    random.shuffle(A)\n",
    "    return A"
   ]
  },
  {
   "cell_type": "code",
   "execution_count": 6,
   "metadata": {
    "collapsed": true
   },
   "outputs": [],
   "source": [
    "class room:\n",
    "    def __init__(self, B, i, power):\n",
    "        self.power = power\n",
    "        self.numero_sala = i\n",
    "        self.a, self.b, self.c, self.d = B\n",
    "        self.B = B\n",
    "        #print(B)\n",
    "        self.sala = [(self.a, power[self.a]),(self.b, power[self.b]), \n",
    "                     (self.c, power[self.c]), (self.d, self.power[self.d])\n",
    "                    ]\n",
    "    def match(self): \n",
    "        self.sala.sort(key=lambda tup: tup[1])\n",
    "        return self.sala \n",
    "    def write(self):\n",
    "        global table, debatedores\n",
    "        sala = self.sala\n",
    "        for i in self.sala:\n",
    "            for j in self.sala:\n",
    "                if self.power[i[0]]>self.power[j[0]]:\n",
    "                    table[i[0]][j[0]]=table[i[0]][j[0]]+1\n",
    "                elif self.power[i[0]]<self.power[j[0]]:\n",
    "                    table[i[0]][j[0]]=table[i[0]][j[0]]-1\n",
    "                else:\n",
    "                    pass\n",
    "    def write2(self):\n",
    "        n = 0\n",
    "        for raw in table:\n",
    "            a = sum(raw)\n",
    "            print('Soma:' + str(a) + \"  N: \" + str(n))\n",
    "            print(raw)\n",
    "            debatedores[n] =+ a\n",
    "            n += 1"
   ]
  },
  {
   "cell_type": "code",
   "execution_count": 7,
   "metadata": {},
   "outputs": [
    {
     "name": "stdout",
     "output_type": "stream",
     "text": [
      "Soma:0.0  N: 0\n",
      "[ 0.  0.  0.  0.  0.  0.  0.  0.  0.  0.  0.  0.  0.  0.  0.  0.]\n",
      "Soma:-3.0  N: 1\n",
      "[ 0.  0.  0.  0.  0. -1. -1.  0. -1.  0.  0.  0.  0.  0.  0.  0.]\n",
      "Soma:0.0  N: 2\n",
      "[ 0.  0.  0.  0.  0.  0.  0.  0.  0.  0.  0.  0.  0.  0.  0.  0.]\n",
      "Soma:0.0  N: 3\n",
      "[ 0.  0.  0.  0.  0.  0.  0.  0.  0.  0.  0.  0.  0.  0.  0.  0.]\n",
      "Soma:0.0  N: 4\n",
      "[ 0.  0.  0.  0.  0.  0.  0.  0.  0.  0.  0.  0.  0.  0.  0.  0.]\n",
      "Soma:3.0  N: 5\n",
      "[ 0.  1.  0.  0.  0.  0.  1.  0.  1.  0.  0.  0.  0.  0.  0.  0.]\n",
      "Soma:1.0  N: 6\n",
      "[ 0.  1.  0.  0.  0. -1.  0.  0.  1.  0.  0.  0.  0.  0.  0.  0.]\n",
      "Soma:0.0  N: 7\n",
      "[ 0.  0.  0.  0.  0.  0.  0.  0.  0.  0.  0.  0.  0.  0.  0.  0.]\n",
      "Soma:-1.0  N: 8\n",
      "[ 0.  1.  0.  0.  0. -1. -1.  0.  0.  0.  0.  0.  0.  0.  0.  0.]\n",
      "Soma:0.0  N: 9\n",
      "[ 0.  0.  0.  0.  0.  0.  0.  0.  0.  0.  0.  0.  0.  0.  0.  0.]\n",
      "Soma:0.0  N: 10\n",
      "[ 0.  0.  0.  0.  0.  0.  0.  0.  0.  0.  0.  0.  0.  0.  0.  0.]\n",
      "Soma:0.0  N: 11\n",
      "[ 0.  0.  0.  0.  0.  0.  0.  0.  0.  0.  0.  0.  0.  0.  0.  0.]\n",
      "Soma:0.0  N: 12\n",
      "[ 0.  0.  0.  0.  0.  0.  0.  0.  0.  0.  0.  0.  0.  0.  0.  0.]\n",
      "Soma:0.0  N: 13\n",
      "[ 0.  0.  0.  0.  0.  0.  0.  0.  0.  0.  0.  0.  0.  0.  0.  0.]\n",
      "Soma:0.0  N: 14\n",
      "[ 0.  0.  0.  0.  0.  0.  0.  0.  0.  0.  0.  0.  0.  0.  0.  0.]\n",
      "Soma:0.0  N: 15\n",
      "[ 0.  0.  0.  0.  0.  0.  0.  0.  0.  0.  0.  0.  0.  0.  0.  0.]\n",
      "Soma:0.0  N: 0\n",
      "[ 0.  0.  0.  0.  0.  0.  0.  0.  0.  0.  0.  0.  0.  0.  0.  0.]\n",
      "Soma:-3.0  N: 1\n",
      "[ 0.  0.  0.  0.  0. -1. -1.  0. -1.  0.  0.  0.  0.  0.  0.  0.]\n",
      "Soma:0.0  N: 2\n",
      "[ 0.  0.  0.  0.  0.  0.  0.  0.  0.  0.  0.  0.  0.  0.  0.  0.]\n",
      "Soma:0.0  N: 3\n",
      "[ 0.  0.  0.  0.  0.  0.  0.  0.  0.  0.  0.  0.  0.  0.  0.  0.]\n",
      "Soma:0.0  N: 4\n",
      "[ 0.  0.  0.  0.  0.  0.  0.  0.  0.  0.  0.  0.  0.  0.  0.  0.]\n",
      "Soma:3.0  N: 5\n",
      "[ 0.  1.  0.  0.  0.  0.  1.  0.  1.  0.  0.  0.  0.  0.  0.  0.]\n",
      "Soma:1.0  N: 6\n",
      "[ 0.  1.  0.  0.  0. -1.  0.  0.  1.  0.  0.  0.  0.  0.  0.  0.]\n",
      "Soma:0.0  N: 7\n",
      "[ 0.  0.  0.  0.  0.  0.  0.  0.  0.  0.  0.  0.  0.  0.  0.  0.]\n",
      "Soma:-1.0  N: 8\n",
      "[ 0.  1.  0.  0.  0. -1. -1.  0.  0.  0.  0.  0.  0.  0.  0.  0.]\n",
      "Soma:0.0  N: 9\n",
      "[ 0.  0.  0.  0.  0.  0.  0.  0.  0.  0.  0.  0.  0.  0.  0.  0.]\n",
      "Soma:0.0  N: 10\n",
      "[ 0.  0.  0.  0.  0.  0.  0.  0.  0.  0.  0.  0.  0.  0.  0.  0.]\n",
      "Soma:0.0  N: 11\n",
      "[ 0.  0.  0.  0.  0.  0.  0.  0.  0.  0.  0.  0.  0.  0.  0.  0.]\n",
      "Soma:3.0  N: 12\n",
      "[ 0.  0.  0.  0.  0.  0.  0.  0.  0.  0.  0.  0.  0.  1.  1.  1.]\n",
      "Soma:1.0  N: 13\n",
      "[ 0.  0.  0.  0.  0.  0.  0.  0.  0.  0.  0.  0. -1.  0.  1.  1.]\n",
      "Soma:-3.0  N: 14\n",
      "[ 0.  0.  0.  0.  0.  0.  0.  0.  0.  0.  0.  0. -1. -1.  0. -1.]\n",
      "Soma:-1.0  N: 15\n",
      "[ 0.  0.  0.  0.  0.  0.  0.  0.  0.  0.  0.  0. -1. -1.  1.  0.]\n",
      "Soma:-1.0  N: 0\n",
      "[ 0.  0.  0.  1.  0.  0.  0. -1.  0.  0.  0. -1.  0.  0.  0.  0.]\n",
      "Soma:-3.0  N: 1\n",
      "[ 0.  0.  0.  0.  0. -1. -1.  0. -1.  0.  0.  0.  0.  0.  0.  0.]\n",
      "Soma:0.0  N: 2\n",
      "[ 0.  0.  0.  0.  0.  0.  0.  0.  0.  0.  0.  0.  0.  0.  0.  0.]\n",
      "Soma:-3.0  N: 3\n",
      "[-1.  0.  0.  0.  0.  0.  0. -1.  0.  0.  0. -1.  0.  0.  0.  0.]\n",
      "Soma:0.0  N: 4\n",
      "[ 0.  0.  0.  0.  0.  0.  0.  0.  0.  0.  0.  0.  0.  0.  0.  0.]\n",
      "Soma:3.0  N: 5\n",
      "[ 0.  1.  0.  0.  0.  0.  1.  0.  1.  0.  0.  0.  0.  0.  0.  0.]\n",
      "Soma:1.0  N: 6\n",
      "[ 0.  1.  0.  0.  0. -1.  0.  0.  1.  0.  0.  0.  0.  0.  0.  0.]\n",
      "Soma:1.0  N: 7\n",
      "[ 1.  0.  0.  1.  0.  0.  0.  0.  0.  0.  0. -1.  0.  0.  0.  0.]\n",
      "Soma:-1.0  N: 8\n",
      "[ 0.  1.  0.  0.  0. -1. -1.  0.  0.  0.  0.  0.  0.  0.  0.  0.]\n",
      "Soma:0.0  N: 9\n",
      "[ 0.  0.  0.  0.  0.  0.  0.  0.  0.  0.  0.  0.  0.  0.  0.  0.]\n",
      "Soma:0.0  N: 10\n",
      "[ 0.  0.  0.  0.  0.  0.  0.  0.  0.  0.  0.  0.  0.  0.  0.  0.]\n",
      "Soma:3.0  N: 11\n",
      "[ 1.  0.  0.  1.  0.  0.  0.  1.  0.  0.  0.  0.  0.  0.  0.  0.]\n",
      "Soma:3.0  N: 12\n",
      "[ 0.  0.  0.  0.  0.  0.  0.  0.  0.  0.  0.  0.  0.  1.  1.  1.]\n",
      "Soma:1.0  N: 13\n",
      "[ 0.  0.  0.  0.  0.  0.  0.  0.  0.  0.  0.  0. -1.  0.  1.  1.]\n",
      "Soma:-3.0  N: 14\n",
      "[ 0.  0.  0.  0.  0.  0.  0.  0.  0.  0.  0.  0. -1. -1.  0. -1.]\n",
      "Soma:-1.0  N: 15\n",
      "[ 0.  0.  0.  0.  0.  0.  0.  0.  0.  0.  0.  0. -1. -1.  1.  0.]\n",
      "Soma:-1.0  N: 0\n",
      "[ 0.  0.  0.  1.  0.  0.  0. -1.  0.  0.  0. -1.  0.  0.  0.  0.]\n",
      "Soma:-3.0  N: 1\n",
      "[ 0.  0.  0.  0.  0. -1. -1.  0. -1.  0.  0.  0.  0.  0.  0.  0.]\n",
      "Soma:-1.0  N: 2\n",
      "[ 0.  0.  0.  0.  1.  0.  0.  0.  0. -1. -1.  0.  0.  0.  0.  0.]\n",
      "Soma:-3.0  N: 3\n",
      "[-1.  0.  0.  0.  0.  0.  0. -1.  0.  0.  0. -1.  0.  0.  0.  0.]\n",
      "Soma:-3.0  N: 4\n",
      "[ 0.  0. -1.  0.  0.  0.  0.  0.  0. -1. -1.  0.  0.  0.  0.  0.]\n",
      "Soma:3.0  N: 5\n",
      "[ 0.  1.  0.  0.  0.  0.  1.  0.  1.  0.  0.  0.  0.  0.  0.  0.]\n",
      "Soma:1.0  N: 6\n",
      "[ 0.  1.  0.  0.  0. -1.  0.  0.  1.  0.  0.  0.  0.  0.  0.  0.]\n",
      "Soma:1.0  N: 7\n",
      "[ 1.  0.  0.  1.  0.  0.  0.  0.  0.  0.  0. -1.  0.  0.  0.  0.]\n",
      "Soma:-1.0  N: 8\n",
      "[ 0.  1.  0.  0.  0. -1. -1.  0.  0.  0.  0.  0.  0.  0.  0.  0.]\n",
      "Soma:1.0  N: 9\n",
      "[ 0.  0.  1.  0.  1.  0.  0.  0.  0.  0. -1.  0.  0.  0.  0.  0.]\n",
      "Soma:3.0  N: 10\n",
      "[ 0.  0.  1.  0.  1.  0.  0.  0.  0.  1.  0.  0.  0.  0.  0.  0.]\n",
      "Soma:3.0  N: 11\n",
      "[ 1.  0.  0.  1.  0.  0.  0.  1.  0.  0.  0.  0.  0.  0.  0.  0.]\n",
      "Soma:3.0  N: 12\n",
      "[ 0.  0.  0.  0.  0.  0.  0.  0.  0.  0.  0.  0.  0.  1.  1.  1.]\n",
      "Soma:1.0  N: 13\n",
      "[ 0.  0.  0.  0.  0.  0.  0.  0.  0.  0.  0.  0. -1.  0.  1.  1.]\n",
      "Soma:-3.0  N: 14\n",
      "[ 0.  0.  0.  0.  0.  0.  0.  0.  0.  0.  0.  0. -1. -1.  0. -1.]\n",
      "Soma:-1.0  N: 15\n",
      "[ 0.  0.  0.  0.  0.  0.  0.  0.  0.  0.  0.  0. -1. -1.  1.  0.]\n"
     ]
    }
   ],
   "source": [
    "ordem = matchingfunc1()\n",
    "campeonato = []\n",
    "for i in range(pairs):\n",
    "    campeonato.append(None)\n",
    "    try:\n",
    "        pequena_ordem = [ordem.pop(0) for i in range(4)]\n",
    "    except IndexError:\n",
    "        campeonato.pop()\n",
    "        break\n",
    "    campeonato[i] = room(pequena_ordem, i, power)\n",
    "for sala in campeonato:\n",
    "    sala.match()\n",
    "    sala.write()\n",
    "    sala.write2()"
   ]
  },
  {
   "cell_type": "code",
   "execution_count": 8,
   "metadata": {},
   "outputs": [
    {
     "data": {
      "text/plain": [
       "[-1.0,\n",
       " -3.0,\n",
       " -1.0,\n",
       " -3.0,\n",
       " -3.0,\n",
       " 3.0,\n",
       " 1.0,\n",
       " 1.0,\n",
       " -1.0,\n",
       " 1.0,\n",
       " 3.0,\n",
       " 3.0,\n",
       " 3.0,\n",
       " 1.0,\n",
       " -3.0,\n",
       " -1.0]"
      ]
     },
     "execution_count": 8,
     "metadata": {},
     "output_type": "execute_result"
    }
   ],
   "source": [
    "debatedores"
   ]
  },
  {
   "cell_type": "code",
   "execution_count": 9,
   "metadata": {},
   "outputs": [
    {
     "data": {
      "text/plain": [
       "[(1, -3.0),\n",
       " (3, -3.0),\n",
       " (4, -3.0),\n",
       " (14, -3.0),\n",
       " (0, -1.0),\n",
       " (2, -1.0),\n",
       " (8, -1.0),\n",
       " (15, -1.0),\n",
       " (6, 1.0),\n",
       " (7, 1.0),\n",
       " (9, 1.0),\n",
       " (13, 1.0),\n",
       " (5, 3.0),\n",
       " (10, 3.0),\n",
       " (11, 3.0),\n",
       " (12, 3.0)]"
      ]
     },
     "execution_count": 9,
     "metadata": {},
     "output_type": "execute_result"
    }
   ],
   "source": [
    "resultado = [(i,debatedores[i]) for i in range(pairs)]\n",
    "resultado.sort(key=lambda x: x[1])\n",
    "resultado1 = [i[0] for i in resultado]\n",
    "resultado"
   ]
  },
  {
   "cell_type": "code",
   "execution_count": 10,
   "metadata": {},
   "outputs": [
    {
     "data": {
      "text/plain": [
       "[(3, 0.01625438593898365),\n",
       " (14, 0.08615532932978143),\n",
       " (0, 0.12812547293587473),\n",
       " (4, 0.15260291293827422),\n",
       " (2, 0.234579404298781),\n",
       " (1, 0.26404867412840494),\n",
       " (8, 0.3668196378557037),\n",
       " (7, 0.3726886393648733),\n",
       " (15, 0.45824734498694897),\n",
       " (13, 0.5198761384351875),\n",
       " (12, 0.6174273119456495),\n",
       " (9, 0.6242409168328011),\n",
       " (6, 0.6486562817472146),\n",
       " (11, 0.6908620720253327),\n",
       " (5, 0.9423510140991392),\n",
       " (10, 0.9928874755509811)]"
      ]
     },
     "execution_count": 10,
     "metadata": {},
     "output_type": "execute_result"
    }
   ],
   "source": [
    "comparação = [(i,power[i]) for i in range(pairs)]\n",
    "comparação.sort(key=lambda x: x[1])\n",
    "comparação"
   ]
  },
  {
   "cell_type": "code",
   "execution_count": 11,
   "metadata": {},
   "outputs": [
    {
     "data": {
      "text/plain": [
       "array([[ 0.,  0.,  0.,  0.,  0.,  0.,  0.,  0.,  0.,  0.,  0.,  0.,  0.,\n",
       "         0.,  0.,  0.],\n",
       "       [ 0.,  0.,  0.,  0.,  0.,  0.,  0.,  0.,  0.,  0.,  0.,  0.,  0.,\n",
       "         0.,  0.,  0.],\n",
       "       [ 0.,  0.,  0.,  0.,  0.,  0.,  0.,  0.,  0.,  0.,  0.,  0.,  0.,\n",
       "         0.,  0.,  0.],\n",
       "       [ 0.,  0.,  0.,  0.,  0.,  0.,  0.,  0.,  0.,  0.,  0.,  0.,  0.,\n",
       "         0.,  0.,  0.],\n",
       "       [ 0.,  0.,  0.,  0.,  0.,  0.,  0.,  0.,  0.,  0.,  0.,  0.,  0.,\n",
       "         0.,  0.,  0.],\n",
       "       [ 0.,  0.,  0.,  0.,  0.,  0.,  0.,  0.,  0.,  0.,  0.,  0.,  0.,\n",
       "         0.,  0.,  0.],\n",
       "       [ 0.,  0.,  0.,  0.,  0.,  0.,  0.,  0.,  0.,  0.,  0.,  0.,  0.,\n",
       "         0.,  0.,  0.],\n",
       "       [ 0.,  0.,  0.,  0.,  0.,  0.,  0.,  0.,  0.,  0.,  0.,  0.,  0.,\n",
       "         0.,  0.,  0.],\n",
       "       [ 0.,  0.,  0.,  0.,  0.,  0.,  0.,  0.,  0.,  0.,  0.,  0.,  0.,\n",
       "         0.,  0.,  0.],\n",
       "       [ 0.,  0.,  0.,  0.,  0.,  0.,  0.,  0.,  0.,  0.,  0.,  0.,  0.,\n",
       "         0.,  0.,  0.],\n",
       "       [ 0.,  0.,  0.,  0.,  0.,  0.,  0.,  0.,  0.,  0.,  0.,  0.,  0.,\n",
       "         0.,  0.,  0.]])"
      ]
     },
     "execution_count": 11,
     "metadata": {},
     "output_type": "execute_result"
    }
   ],
   "source": [
    "adj_table"
   ]
  },
  {
   "cell_type": "code",
   "execution_count": null,
   "metadata": {
    "collapsed": true
   },
   "outputs": [],
   "source": []
  }
 ],
 "metadata": {
  "kernelspec": {
   "display_name": "Python 3",
   "language": "python",
   "name": "python3"
  },
  "language_info": {
   "codemirror_mode": {
    "name": "ipython",
    "version": 3
   },
   "file_extension": ".py",
   "mimetype": "text/x-python",
   "name": "python",
   "nbconvert_exporter": "python",
   "pygments_lexer": "ipython3",
   "version": "3.6.3"
  }
 },
 "nbformat": 4,
 "nbformat_minor": 2
}

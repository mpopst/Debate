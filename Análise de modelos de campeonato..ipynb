{
 "cells": [
  {
   "cell_type": "markdown",
   "metadata": {},
   "source": [
    "# Randon Pairing vs Power Pairing e Page Rank vs Trivial Rank\n",
    "Neste documento, queremos investigar qual é o melhor jeito de fazer o rankeamento e o pairing, para o Campeonato Fluminense de Debates.\n",
    "\n",
    "O objetivo é que os 8 melhores debatedores passem de fase com a menor variância para o 8º colocado. Também objetivamos que cada debate (sala) seja mais equilibrado quanto o possível. Talvez algunas destes requisitos entrem em conflito entre si."
   ]
  },
  {
   "cell_type": "code",
   "execution_count": 16,
   "metadata": {},
   "outputs": [],
   "source": [
    "import numpy as np\n",
    "import matplotlib\n",
    "import matplotlib.pyplot as plt\n",
    "import networkx as nx\n",
    "import random\n",
    "%matplotlib inline"
   ]
  },
  {
   "cell_type": "code",
   "execution_count": 147,
   "metadata": {},
   "outputs": [],
   "source": [
    "duplas = 16\n",
    "rodadas = 4\n",
    "teste = 10000"
   ]
  },
  {
   "cell_type": "code",
   "execution_count": 18,
   "metadata": {},
   "outputs": [],
   "source": [
    "power = [random.random() for i in range(duplas)]\n",
    "power.sort(reverse=True)"
   ]
  },
  {
   "cell_type": "markdown",
   "metadata": {},
   "source": [
    "## Paring aleatório e trivial rank"
   ]
  },
  {
   "cell_type": "code",
   "execution_count": 148,
   "metadata": {},
   "outputs": [],
   "source": [
    "def campeonato_aleatorio_padrao(power, rodadas): #Trivial Rank, Random Pairing\n",
    "    global Avar\n",
    "    duplas = len(power)\n",
    "    tabela = [[0,0] for i in range(duplas)]\n",
    "    def gerar_rodada_aleatoria(duplas): \n",
    "        numeros = list(range(duplas))\n",
    "        random.shuffle(numeros)\n",
    "        rodada = [[]]\n",
    "        while len(numeros) != 0:\n",
    "            if len(rodada[-1]) != 4:\n",
    "                rodada[-1].append(numeros.pop())\n",
    "            else:\n",
    "                rodada.append([])\n",
    "        return rodada\n",
    "    for i in range(rodadas):\n",
    "        rodada = gerar_rodada_aleatoria(duplas)\n",
    "        for sala in rodada:\n",
    "            A = [(power[dupla]+0.05*np.random.randn(), dupla) for dupla in sala]\n",
    "            azinho = [i[0] for i in A]\n",
    "            Avar += np.var(azinho)\n",
    "            A.sort(key = lambda x: x[1])\n",
    "            tabela[A[0][1]][0] += 3\n",
    "            tabela[A[0][1]][1] += A[0][0]\n",
    "            tabela[A[1][1]][0] += 2\n",
    "            tabela[A[1][1]][1] += A[1][0]\n",
    "            tabela[A[2][1]][0] += 1\n",
    "            tabela[A[2][1]][1] += A[2][0]\n",
    "            tabela[A[3][1]][1] += A[3][0]\n",
    "    return tabela"
   ]
  },
  {
   "cell_type": "code",
   "execution_count": 149,
   "metadata": {},
   "outputs": [
    {
     "data": {
      "text/plain": [
       "0.05650426001089521"
      ]
     },
     "execution_count": 149,
     "metadata": {},
     "output_type": "execute_result"
    }
   ],
   "source": [
    "A = [[] for i in range(duplas)]\n",
    "Avar = 0 #variância das partidas\n",
    "for i in range(teste):\n",
    "    tabela = campeonato_aleatorio_padrao(power, rodadas) #executa um campeonato e gera a tabela\n",
    "    tabela1 = [(tabela[i][0], tabela[i][1], i) for i in range(len(tabela))] #ordena\n",
    "    tabela1.sort(key=lambda x: (x[0], x[1]), reverse=True)\n",
    "    tabela2 = tabela[:]\n",
    "    tabela2.sort(key=lambda x: (x[0], x[1]), reverse=True)\n",
    "    n = 0\n",
    "    for item in tabela1:\n",
    "        A[item[2]].append(n)\n",
    "        n += 1\n",
    "Avar/(teste*duplas) #Variância média das salas. Mede o quanto que neste modelo de campeonato o nível das duplas é díspar."
   ]
  },
  {
   "cell_type": "code",
   "execution_count": 150,
   "metadata": {},
   "outputs": [
    {
     "data": {
      "image/png": "[encoded data removed]",
      "text/plain": [
       "<Figure size 432x288 with 1 Axes>"
      ]
     },
     "metadata": {},
     "output_type": "display_data"
    }
   ],
   "source": [
    "a = [(sum(item)/len(item), np.var(item)) for item in A]\n",
    "plt.plot(a)\n",
    "plt.show()"
   ]
  },
  {
   "cell_type": "markdown",
   "metadata": {},
   "source": [
    "A variância é maior justamente no meio, onde menos gostaríamos que houvesse variância."
   ]
  },
  {
   "cell_type": "code",
   "execution_count": 151,
   "metadata": {},
   "outputs": [
    {
     "data": {
      "text/plain": [
       "25.35312298"
      ]
     },
     "execution_count": 151,
     "metadata": {},
     "output_type": "execute_result"
    }
   ],
   "source": [
    "varianciatotal = [i[1] for i in a]\n",
    "sum(varianciatotal) #variância total do campeonato"
   ]
  },
  {
   "cell_type": "code",
   "execution_count": 152,
   "metadata": {},
   "outputs": [
    {
     "data": {
      "text/plain": [
       "1.6222111329910174"
      ]
     },
     "execution_count": 152,
     "metadata": {},
     "output_type": "execute_result"
    }
   ],
   "source": [
    "(np.var(A[7]))**0.5 #desvio padrão do 8º colocado"
   ]
  },
  {
   "cell_type": "markdown",
   "metadata": {
    "collapsed": true
   },
   "source": [
    "## Power paring, trivial ranking\n",
    "### Caso 1: Primeira rodada aleatória, demais por power paring."
   ]
  },
  {
   "cell_type": "code",
   "execution_count": 153,
   "metadata": {},
   "outputs": [],
   "source": [
    "def campeonato_power_paired_rank_padrao(power, rodadas):\n",
    "    global Bvar\n",
    "    duplas = len(power)\n",
    "    tabela = [[0,0] for i in range(duplas)]\n",
    "    def gerar_rodada_power_paired(duplas, tabela): \n",
    "        if sum([sum(x) for x in tabela])== 0:\n",
    "            numeros = list(range(duplas))\n",
    "            random.shuffle(numeros)\n",
    "            rodada = [[]]\n",
    "            while len(numeros) != 0:\n",
    "                if len(rodada[-1]) != 4:\n",
    "                    rodada[-1].append(numeros.pop())\n",
    "                else:\n",
    "                    rodada.append([])\n",
    "            return rodada\n",
    "        else:\n",
    "            tabela1 = [(tabela[i][0], tabela[i][1], i) for i in range(duplas)]\n",
    "            tabela1.sort(key=lambda x: (x[0], x[1]), reverse=True)\n",
    "            numeros = [i[2] for i in tabela1]\n",
    "            rodada = [[]] \n",
    "            while len(numeros) != 0:\n",
    "                if len(rodada[-1]) != 4:\n",
    "                    rodada[-1].append(numeros.pop())\n",
    "                else:\n",
    "                    rodada.append([])\n",
    "            return rodada\n",
    "    for i in range(rodadas):\n",
    "        rodada = gerar_rodada_power_paired(duplas, tabela)\n",
    "        for sala in rodada:\n",
    "            A = [(power[dupla]+0.05*np.random.randn(), dupla) for dupla in sala]\n",
    "            azinho = [i[0] for i in A]\n",
    "            Bvar += np.var(azinho)\n",
    "            A.sort(key = lambda x: x[1])\n",
    "            tabela[A[0][1]][0] += 3\n",
    "            tabela[A[0][1]][1] += A[0][0]\n",
    "            tabela[A[1][1]][0] += 2\n",
    "            tabela[A[1][1]][1] += A[1][0]\n",
    "            tabela[A[2][1]][0] += 1\n",
    "            tabela[A[2][1]][1] += A[2][0]\n",
    "            tabela[A[3][1]][1] += A[3][0]\n",
    "    return tabela"
   ]
  },
  {
   "cell_type": "code",
   "execution_count": 154,
   "metadata": {},
   "outputs": [
    {
     "data": {
      "text/plain": [
       "0.0267226504851434"
      ]
     },
     "execution_count": 154,
     "metadata": {},
     "output_type": "execute_result"
    }
   ],
   "source": [
    "B = [[] for i in range(duplas)]\n",
    "Bvar = 0\n",
    "for i in range(teste):\n",
    "    tabela = campeonato_power_paired_rank_padrao(power, rodadas) #executa um campeonato e gera a tabela\n",
    "    tabela1 = [(tabela[i][0], tabela[i][1], i) for i in range(len(tabela))] #ordena\n",
    "    tabela1.sort(key=lambda x: (x[0], x[1]), reverse=True)\n",
    "    tabela2 = tabela[:]\n",
    "    tabela2.sort(key=lambda x: (x[0], x[1]), reverse=True)\n",
    "    n = 0\n",
    "    for item in tabela1:\n",
    "        B[item[2]].append(n)\n",
    "        n += 1\n",
    "Bvar/(teste*duplas) #mostra a variância média das partidas neste modelo de campeonato"
   ]
  },
  {
   "cell_type": "code",
   "execution_count": 155,
   "metadata": {},
   "outputs": [
    {
     "data": {
      "image/png": "[encoded data removed]",
      "text/plain": [
       "<Figure size 432x288 with 1 Axes>"
      ]
     },
     "metadata": {},
     "output_type": "display_data"
    }
   ],
   "source": [
    "b = [(sum(item)/len(item), np.var(item), B.index(item)) for item in B]\n",
    "plt.plot(b)\n",
    "plt.show()"
   ]
  },
  {
   "cell_type": "markdown",
   "metadata": {},
   "source": [
    "É interessante que a variância seja menor justamente no break e mesmo havendo algumas duplas que não ficam no seu lugar de fato na maioria das vezes, é pouco importante porque acontece justamente longe do break."
   ]
  },
  {
   "cell_type": "code",
   "execution_count": 156,
   "metadata": {},
   "outputs": [
    {
     "data": {
      "text/plain": [
       "24.44103788"
      ]
     },
     "execution_count": 156,
     "metadata": {},
     "output_type": "execute_result"
    }
   ],
   "source": [
    "varianciatotal = [i[1] for i in b]\n",
    "sum(varianciatotal) #Desvio padrão médio total"
   ]
  },
  {
   "cell_type": "code",
   "execution_count": 157,
   "metadata": {},
   "outputs": [
    {
     "data": {
      "text/plain": [
       "1.4874303983716346"
      ]
     },
     "execution_count": 157,
     "metadata": {},
     "output_type": "execute_result"
    }
   ],
   "source": [
    "(np.var(B[7]))**0.5 #Desvio padrão do 8º colocado"
   ]
  },
  {
   "cell_type": "markdown",
   "metadata": {},
   "source": [
    "Aqui a variância total do campeonato é menor que no outro caso."
   ]
  },
  {
   "cell_type": "markdown",
   "metadata": {
    "collapsed": true
   },
   "source": [
    "# Campeonato Comum + Pairing por reputação"
   ]
  },
  {
   "cell_type": "code",
   "execution_count": 192,
   "metadata": {},
   "outputs": [],
   "source": [
    "def campeonato_power_paired_rank_padrao(power, rodadas):\n",
    "    global Dvar\n",
    "    duplas = len(power)\n",
    "    tabela = [[0,0] for i in range(duplas)]\n",
    "    def gerar_rodada_power_paired(duplas, tabela): \n",
    "        if sum([sum(x) for x in tabela])== 0:\n",
    "            tabela1 = [(tabela[i][0], (0.1*np.random.randn()+power[i]), i) for i in range(duplas)]\n",
    "            tabela1.sort(key=lambda x: (x[0], x[1]), reverse=True)\n",
    "            numeros0 = []\n",
    "            while len(numeros0) < 0.25*len(tabela1):\n",
    "                a = tabela1.pop(0)\n",
    "                numeros0.append(a[2])\n",
    "            numeros = [i[2] for i in tabela1]\n",
    "            random.shuffle(numeros)\n",
    "            rodada = [[]] \n",
    "            while len(numeros) != 0:\n",
    "                if len(rodada[-1]) == 0:\n",
    "                    rodada[-1].append(numeros0.pop())\n",
    "                elif len(rodada[-1]) != 4:\n",
    "                    rodada[-1].append(numeros.pop())\n",
    "                else:\n",
    "                    rodada.append([])\n",
    "            return rodada\n",
    "        else:\n",
    "            tabela1 = [(tabela[i][0], tabela[i][1], i) for i in range(duplas)]\n",
    "            tabela1.sort(key=lambda x: (x[0], x[1]), reverse=True)\n",
    "            numeros = [i[2] for i in tabela1]\n",
    "            rodada = [[]] \n",
    "            while len(numeros) != 0:\n",
    "                if len(rodada[-1]) != 4:\n",
    "                    rodada[-1].append(numeros.pop())\n",
    "                else:\n",
    "                    rodada.append([])\n",
    "            return rodada\n",
    "    for i in range(rodadas):\n",
    "        rodada = gerar_rodada_power_paired(duplas, tabela)\n",
    "        for sala in rodada:\n",
    "            A = [(power[dupla]+0.05*np.random.randn(), dupla) for dupla in sala]\n",
    "            A.sort(key = lambda x: x[1])\n",
    "            azinho = [i[0] for i in A]\n",
    "            Dvar += np.var(azinho)\n",
    "            tabela[A[0][1]][0] += 3\n",
    "            tabela[A[0][1]][1] += A[0][0]\n",
    "            tabela[A[1][1]][0] += 2\n",
    "            tabela[A[1][1]][1] += A[1][0]\n",
    "            tabela[A[2][1]][0] += 1\n",
    "            tabela[A[2][1]][1] += A[2][0]\n",
    "            tabela[A[3][1]][1] += A[3][0]\n",
    "    return tabela"
   ]
  },
  {
   "cell_type": "code",
   "execution_count": 193,
   "metadata": {},
   "outputs": [
    {
     "data": {
      "text/plain": [
       "[[12, 3.7990071946001573],\n",
       " [9, 3.1569610780893327],\n",
       " [8, 3.3299261697449687],\n",
       " [7, 3.0854000395157746],\n",
       " [7, 2.8691627123844565],\n",
       " [6, 2.6250049375222586],\n",
       " [7, 2.2193621200978186],\n",
       " [6, 1.9289481979268601],\n",
       " [6, 1.5286358544417102],\n",
       " [5, 1.4176188716707396],\n",
       " [6, 1.5115066023841428],\n",
       " [5, 1.0908358640662894],\n",
       " [5, 1.0444254821835395],\n",
       " [4, 0.9643789060949685],\n",
       " [3, 0.8645230695340096],\n",
       " [0, 0.07290117256654079]]"
      ]
     },
     "execution_count": 193,
     "metadata": {},
     "output_type": "execute_result"
    }
   ],
   "source": [
    "campeonato_power_paired_rank_padrao(power, rodadas)"
   ]
  },
  {
   "cell_type": "code",
   "execution_count": 194,
   "metadata": {},
   "outputs": [
    {
     "ename": "KeyboardInterrupt",
     "evalue": "",
     "output_type": "error",
     "traceback": [
      "\u001b[0;31m---------------------------------------------------------------------------\u001b[0m",
      "\u001b[0;31mKeyboardInterrupt\u001b[0m                         Traceback (most recent call last)",
      "\u001b[0;32m<ipython-input-194-49d90d77f27a>\u001b[0m in \u001b[0;36m<module>\u001b[0;34m()\u001b[0m\n\u001b[1;32m      2\u001b[0m \u001b[0mDvar\u001b[0m \u001b[0;34m=\u001b[0m \u001b[0;36m0\u001b[0m\u001b[0;34m\u001b[0m\u001b[0m\n\u001b[1;32m      3\u001b[0m \u001b[0;32mfor\u001b[0m \u001b[0mi\u001b[0m \u001b[0;32min\u001b[0m \u001b[0mrange\u001b[0m\u001b[0;34m(\u001b[0m\u001b[0mteste\u001b[0m\u001b[0;34m)\u001b[0m\u001b[0;34m:\u001b[0m\u001b[0;34m\u001b[0m\u001b[0m\n\u001b[0;32m----> 4\u001b[0;31m     \u001b[0mtabela\u001b[0m \u001b[0;34m=\u001b[0m \u001b[0mcampeonato_power_paired_rank_padrao\u001b[0m\u001b[0;34m(\u001b[0m\u001b[0mpower\u001b[0m\u001b[0;34m,\u001b[0m \u001b[0mrodadas\u001b[0m\u001b[0;34m)\u001b[0m \u001b[0;31m#executa um campeonato e gera a tabela\u001b[0m\u001b[0;34m\u001b[0m\u001b[0m\n\u001b[0m\u001b[1;32m      5\u001b[0m     \u001b[0mtabela1\u001b[0m \u001b[0;34m=\u001b[0m \u001b[0;34m[\u001b[0m\u001b[0;34m(\u001b[0m\u001b[0mtabela\u001b[0m\u001b[0;34m[\u001b[0m\u001b[0mi\u001b[0m\u001b[0;34m]\u001b[0m\u001b[0;34m[\u001b[0m\u001b[0;36m0\u001b[0m\u001b[0;34m]\u001b[0m\u001b[0;34m,\u001b[0m \u001b[0mtabela\u001b[0m\u001b[0;34m[\u001b[0m\u001b[0mi\u001b[0m\u001b[0;34m]\u001b[0m\u001b[0;34m[\u001b[0m\u001b[0;36m1\u001b[0m\u001b[0;34m]\u001b[0m\u001b[0;34m,\u001b[0m \u001b[0mi\u001b[0m\u001b[0;34m)\u001b[0m \u001b[0;32mfor\u001b[0m \u001b[0mi\u001b[0m \u001b[0;32min\u001b[0m \u001b[0mrange\u001b[0m\u001b[0;34m(\u001b[0m\u001b[0mlen\u001b[0m\u001b[0;34m(\u001b[0m\u001b[0mtabela\u001b[0m\u001b[0;34m)\u001b[0m\u001b[0;34m)\u001b[0m\u001b[0;34m]\u001b[0m \u001b[0;31m#ordena\u001b[0m\u001b[0;34m\u001b[0m\u001b[0m\n\u001b[1;32m      6\u001b[0m     \u001b[0mtabela1\u001b[0m\u001b[0;34m.\u001b[0m\u001b[0msort\u001b[0m\u001b[0;34m(\u001b[0m\u001b[0mkey\u001b[0m\u001b[0;34m=\u001b[0m\u001b[0;32mlambda\u001b[0m \u001b[0mx\u001b[0m\u001b[0;34m:\u001b[0m \u001b[0;34m(\u001b[0m\u001b[0mx\u001b[0m\u001b[0;34m[\u001b[0m\u001b[0;36m0\u001b[0m\u001b[0;34m]\u001b[0m\u001b[0;34m,\u001b[0m \u001b[0mx\u001b[0m\u001b[0;34m[\u001b[0m\u001b[0;36m1\u001b[0m\u001b[0;34m]\u001b[0m\u001b[0;34m)\u001b[0m\u001b[0;34m,\u001b[0m \u001b[0mreverse\u001b[0m\u001b[0;34m=\u001b[0m\u001b[0;32mTrue\u001b[0m\u001b[0;34m)\u001b[0m\u001b[0;34m\u001b[0m\u001b[0m\n",
      "\u001b[0;32m<ipython-input-192-358a09c20f77>\u001b[0m in \u001b[0;36mcampeonato_power_paired_rank_padrao\u001b[0;34m(power, rodadas)\u001b[0m\n\u001b[1;32m     39\u001b[0m             \u001b[0mA\u001b[0m\u001b[0;34m.\u001b[0m\u001b[0msort\u001b[0m\u001b[0;34m(\u001b[0m\u001b[0mkey\u001b[0m \u001b[0;34m=\u001b[0m \u001b[0;32mlambda\u001b[0m \u001b[0mx\u001b[0m\u001b[0;34m:\u001b[0m \u001b[0mx\u001b[0m\u001b[0;34m[\u001b[0m\u001b[0;36m1\u001b[0m\u001b[0;34m]\u001b[0m\u001b[0;34m)\u001b[0m\u001b[0;34m\u001b[0m\u001b[0m\n\u001b[1;32m     40\u001b[0m             \u001b[0mazinho\u001b[0m \u001b[0;34m=\u001b[0m \u001b[0;34m[\u001b[0m\u001b[0mi\u001b[0m\u001b[0;34m[\u001b[0m\u001b[0;36m0\u001b[0m\u001b[0;34m]\u001b[0m \u001b[0;32mfor\u001b[0m \u001b[0mi\u001b[0m \u001b[0;32min\u001b[0m \u001b[0mA\u001b[0m\u001b[0;34m]\u001b[0m\u001b[0;34m\u001b[0m\u001b[0m\n\u001b[0;32m---> 41\u001b[0;31m             \u001b[0mDvar\u001b[0m \u001b[0;34m+=\u001b[0m \u001b[0mnp\u001b[0m\u001b[0;34m.\u001b[0m\u001b[0mvar\u001b[0m\u001b[0;34m(\u001b[0m\u001b[0mazinho\u001b[0m\u001b[0;34m)\u001b[0m\u001b[0;34m\u001b[0m\u001b[0m\n\u001b[0m\u001b[1;32m     42\u001b[0m             \u001b[0mtabela\u001b[0m\u001b[0;34m[\u001b[0m\u001b[0mA\u001b[0m\u001b[0;34m[\u001b[0m\u001b[0;36m0\u001b[0m\u001b[0;34m]\u001b[0m\u001b[0;34m[\u001b[0m\u001b[0;36m1\u001b[0m\u001b[0;34m]\u001b[0m\u001b[0;34m]\u001b[0m\u001b[0;34m[\u001b[0m\u001b[0;36m0\u001b[0m\u001b[0;34m]\u001b[0m \u001b[0;34m+=\u001b[0m \u001b[0;36m3\u001b[0m\u001b[0;34m\u001b[0m\u001b[0m\n\u001b[1;32m     43\u001b[0m             \u001b[0mtabela\u001b[0m\u001b[0;34m[\u001b[0m\u001b[0mA\u001b[0m\u001b[0;34m[\u001b[0m\u001b[0;36m0\u001b[0m\u001b[0;34m]\u001b[0m\u001b[0;34m[\u001b[0m\u001b[0;36m1\u001b[0m\u001b[0;34m]\u001b[0m\u001b[0;34m]\u001b[0m\u001b[0;34m[\u001b[0m\u001b[0;36m1\u001b[0m\u001b[0;34m]\u001b[0m \u001b[0;34m+=\u001b[0m \u001b[0mA\u001b[0m\u001b[0;34m[\u001b[0m\u001b[0;36m0\u001b[0m\u001b[0;34m]\u001b[0m\u001b[0;34m[\u001b[0m\u001b[0;36m0\u001b[0m\u001b[0;34m]\u001b[0m\u001b[0;34m\u001b[0m\u001b[0m\n",
      "\u001b[0;32m/usr/local/lib/python3.5/dist-packages/numpy/core/fromnumeric.py\u001b[0m in \u001b[0;36mvar\u001b[0;34m(a, axis, dtype, out, ddof, keepdims)\u001b[0m\n\u001b[1;32m   3192\u001b[0m \u001b[0;34m\u001b[0m\u001b[0m\n\u001b[1;32m   3193\u001b[0m     return _methods._var(a, axis=axis, dtype=dtype, out=out, ddof=ddof,\n\u001b[0;32m-> 3194\u001b[0;31m                          **kwargs)\n\u001b[0m",
      "\u001b[0;32m/usr/local/lib/python3.5/dist-packages/numpy/core/_methods.py\u001b[0m in \u001b[0;36m_var\u001b[0;34m(a, axis, dtype, out, ddof, keepdims)\u001b[0m\n\u001b[1;32m    114\u001b[0m         \u001b[0mx\u001b[0m \u001b[0;34m=\u001b[0m \u001b[0mum\u001b[0m\u001b[0;34m.\u001b[0m\u001b[0mmultiply\u001b[0m\u001b[0;34m(\u001b[0m\u001b[0mx\u001b[0m\u001b[0;34m,\u001b[0m \u001b[0mum\u001b[0m\u001b[0;34m.\u001b[0m\u001b[0mconjugate\u001b[0m\u001b[0;34m(\u001b[0m\u001b[0mx\u001b[0m\u001b[0;34m)\u001b[0m\u001b[0;34m,\u001b[0m \u001b[0mout\u001b[0m\u001b[0;34m=\u001b[0m\u001b[0mx\u001b[0m\u001b[0;34m)\u001b[0m\u001b[0;34m.\u001b[0m\u001b[0mreal\u001b[0m\u001b[0;34m\u001b[0m\u001b[0m\n\u001b[1;32m    115\u001b[0m     \u001b[0;32melse\u001b[0m\u001b[0;34m:\u001b[0m\u001b[0;34m\u001b[0m\u001b[0m\n\u001b[0;32m--> 116\u001b[0;31m         \u001b[0mx\u001b[0m \u001b[0;34m=\u001b[0m \u001b[0mum\u001b[0m\u001b[0;34m.\u001b[0m\u001b[0mmultiply\u001b[0m\u001b[0;34m(\u001b[0m\u001b[0mx\u001b[0m\u001b[0;34m,\u001b[0m \u001b[0mx\u001b[0m\u001b[0;34m,\u001b[0m \u001b[0mout\u001b[0m\u001b[0;34m=\u001b[0m\u001b[0mx\u001b[0m\u001b[0;34m)\u001b[0m\u001b[0;34m\u001b[0m\u001b[0m\n\u001b[0m\u001b[1;32m    117\u001b[0m     \u001b[0mret\u001b[0m \u001b[0;34m=\u001b[0m \u001b[0mumr_sum\u001b[0m\u001b[0;34m(\u001b[0m\u001b[0mx\u001b[0m\u001b[0;34m,\u001b[0m \u001b[0maxis\u001b[0m\u001b[0;34m,\u001b[0m \u001b[0mdtype\u001b[0m\u001b[0;34m,\u001b[0m \u001b[0mout\u001b[0m\u001b[0;34m,\u001b[0m \u001b[0mkeepdims\u001b[0m\u001b[0;34m)\u001b[0m\u001b[0;34m\u001b[0m\u001b[0m\n\u001b[1;32m    118\u001b[0m \u001b[0;34m\u001b[0m\u001b[0m\n",
      "\u001b[0;31mKeyboardInterrupt\u001b[0m: "
     ]
    }
   ],
   "source": [
    "D = [[] for i in range(duplas)]\n",
    "Dvar = 0\n",
    "for i in range(teste):\n",
    "    tabela = campeonato_power_paired_rank_padrao(power, rodadas) #executa um campeonato e gera a tabela\n",
    "    tabela1 = [(tabela[i][0], tabela[i][1], i) for i in range(len(tabela))] #ordena\n",
    "    tabela1.sort(key=lambda x: (x[0], x[1]), reverse=True)\n",
    "    tabela2 = tabela[:]\n",
    "    tabela2.sort(key=lambda x: (x[0], x[1]), reverse=True)\n",
    "    n = 0\n",
    "    for item in tabela1:\n",
    "        D[item[2]].append(n)\n",
    "        n += 1\n",
    "Dvar/(teste*duplas) #mostra a variância média das partidas neste modelo de campeonato"
   ]
  },
  {
   "cell_type": "code",
   "execution_count": 161,
   "metadata": {},
   "outputs": [
    {
     "data": {
      "text/plain": [
       "18.827114160000004"
      ]
     },
     "execution_count": 161,
     "metadata": {},
     "output_type": "execute_result"
    }
   ],
   "source": [
    "varianciatotal = [i[1] for i in d]\n",
    "sum(varianciatotal) #Desvio padrão médio total"
   ]
  },
  {
   "cell_type": "code",
   "execution_count": 162,
   "metadata": {},
   "outputs": [
    {
     "data": {
      "text/plain": [
       "0.9382425912310739"
      ]
     },
     "execution_count": 162,
     "metadata": {},
     "output_type": "execute_result"
    }
   ],
   "source": [
    "(np.var(D[7]))**0.5 #Desvio padrão do 8º colocado"
   ]
  },
  {
   "cell_type": "markdown",
   "metadata": {},
   "source": [
    "O que é relevante neste último teste é que **estimar os melhores debatedores** ajuda a diminuir o desvio padrão médio em quase 3 colocações e o desvio padrão do 8º colocado é diminuido em $16\\%$. Isso é muito relevante e será capaz de que o campeonato tenha semi-finais com os melhores debatedores."
   ]
  },
  {
   "cell_type": "code",
   "execution_count": 196,
   "metadata": {},
   "outputs": [],
   "source": [
    "def campeonato_page_rank_paired(power, rodadas):\n",
    "    global Evar\n",
    "    duplas = len(power)\n",
    "    tabela = [[0,0] for i in range(duplas)]\n",
    "    def gerar_rodada_power_paired(duplas, tabela): \n",
    "        if sum([sum(x) for x in tabela])== 0:\n",
    "            tabela1 = [(tabela[i][0], (0.1*np.random.randn()+power[i]), i) for i in range(duplas)]\n",
    "            tabela1.sort(key=lambda x: (x[0], x[1]), reverse=True)\n",
    "            numeros0 = []\n",
    "            while len(numeros0) <= 0.25*len(tabela1):\n",
    "                a = tabela1.pop(0)\n",
    "                numeros0.append(a[2])\n",
    "            numeros = [i[2] for i in tabela1]\n",
    "            random.shuffle(numeros)\n",
    "            rodada = [[]] \n",
    "            while len(numeros) != 0:\n",
    "                if len(rodada[-1]) == 0:\n",
    "                    rodada[-1].append(numeros0.pop())\n",
    "                elif len(rodada[-1]) != 4:\n",
    "                    rodada[-1].append(numeros.pop())\n",
    "                else:\n",
    "                    rodada.append([])\n",
    "            return rodada\n",
    "        else:\n",
    "            tabela1 = [(tabela[i][0], tabela[i][1], i) for i in range(duplas)]\n",
    "            tabela1.sort(key=lambda x: (x[0], x[1]), reverse=True)\n",
    "            numeros = [i[2] for i in tabela1]\n",
    "            rodada = [[]] \n",
    "            while len(numeros) != 0:\n",
    "                if len(rodada[-1]) != 4:\n",
    "                    rodada[-1].append(numeros.pop())\n",
    "                else:\n",
    "                    rodada.append([])\n",
    "            return rodada\n",
    "    ADJ = np.zeros(duplas*duplas)\n",
    "    ADJ = ADJ.reshape(duplas, duplas)\n",
    "    for i in range(rodadas):\n",
    "        rodada = gerar_rodada_power_paired(duplas, tabela)\n",
    "        for sala in rodada:\n",
    "            A = [(power[dupla]+0.05*np.random.randn(), dupla) for dupla in sala]\n",
    "            A.sort(key = lambda x: x[1])\n",
    "            azinho = [i[0] for i in A]\n",
    "            ADJ[A[0][1], A[1][1]] += 1\n",
    "            ADJ[A[0][1], A[2][1]] += 1\n",
    "            ADJ[A[0][1], A[3][1]] += 1\n",
    "            ADJ[A[1][1], A[2][1]] += 1\n",
    "            ADJ[A[1][1], A[3][1]] += 1\n",
    "            ADJ[A[2][1], A[3][1]] += 1\n",
    "            Evar += np.var(azinho)\n",
    "            tabela[A[0][1]][0] += 3\n",
    "            tabela[A[0][1]][1] += A[0][0]\n",
    "            tabela[A[1][1]][0] += 2\n",
    "            tabela[A[1][1]][1] += A[1][0]\n",
    "            tabela[A[2][1]][0] += 1\n",
    "            tabela[A[2][1]][1] += A[2][0]\n",
    "            tabela[A[3][1]][1] += A[3][0]\n",
    "    G = nx.from_numpy_matrix(ADJ, parallel_edges=True, create_using=nx.DiGraph())\n",
    "    PR = nx.pagerank(G, alpha=0.9)\n",
    "    tabelosa = [PR[duplas - i - 1] for i in range(duplas)]\n",
    "    return tabelosa"
   ]
  },
  {
   "cell_type": "code",
   "execution_count": 197,
   "metadata": {},
   "outputs": [
    {
     "data": {
      "text/plain": [
       "0.026749555332823235"
      ]
     },
     "execution_count": 197,
     "metadata": {},
     "output_type": "execute_result"
    }
   ],
   "source": [
    "E = [[] for i in range(duplas)]\n",
    "Evar = 0\n",
    "for i in range(teste):\n",
    "    tabela = campeonato_page_rank_paired(power, rodadas) #executa um campeonato e gera a tabela\n",
    "    tabela1 = [(tabela[i], i) for i in range(len(tabela))] #ordena\n",
    "    tabela1.sort(reverse=True)\n",
    "    n = 0\n",
    "    for item in tabela1:\n",
    "        E[item[1]].append(n)\n",
    "        n += 1\n",
    "Evar/(teste*duplas) #mostra a variância média das partidas neste modelo de campeonato"
   ]
  },
  {
   "cell_type": "code",
   "execution_count": 198,
   "metadata": {},
   "outputs": [
    {
     "data": {
      "image/png": "[encoded data removed]",
      "text/plain": [
       "<Figure size 432x288 with 1 Axes>"
      ]
     },
     "metadata": {},
     "output_type": "display_data"
    }
   ],
   "source": [
    "e = [(sum(item)/len(item), np.var(item), E.index(item)) for item in E]\n",
    "plt.plot(e)\n",
    "plt.show()"
   ]
  },
  {
   "cell_type": "code",
   "execution_count": 199,
   "metadata": {},
   "outputs": [
    {
     "data": {
      "text/plain": [
       "4.5625275400000005"
      ]
     },
     "execution_count": 199,
     "metadata": {},
     "output_type": "execute_result"
    }
   ],
   "source": [
    "varianciatotal = [i[1] for i in e]\n",
    "sum(varianciatotal) #Desvio padrão médio total"
   ]
  },
  {
   "cell_type": "code",
   "execution_count": 200,
   "metadata": {},
   "outputs": [
    {
     "data": {
      "text/plain": [
       "0.8764493767468833"
      ]
     },
     "execution_count": 200,
     "metadata": {},
     "output_type": "execute_result"
    }
   ],
   "source": [
    "(np.var(E[7]))**0.5 #Desvio padrão do 8º colocado"
   ]
  }
 ],
 "metadata": {
  "kernelspec": {
   "display_name": "Python 3",
   "language": "python",
   "name": "python3"
  },
  "language_info": {
   "codemirror_mode": {
    "name": "ipython",
    "version": 3
   },
   "file_extension": ".py",
   "mimetype": "text/x-python",
   "name": "python",
   "nbconvert_exporter": "python",
   "pygments_lexer": "ipython3",
   "version": "3.5.2"
  }
 },
 "nbformat": 4,
 "nbformat_minor": 2
}

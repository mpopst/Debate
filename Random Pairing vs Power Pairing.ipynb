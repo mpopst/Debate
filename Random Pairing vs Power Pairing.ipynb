{
 "cells": [
  {
   "cell_type": "code",
   "execution_count": 11,
   "metadata": {
    "collapsed": true
   },
   "outputs": [],
   "source": [
    "import numpy as np\n",
    "import matplotlib as plt\n",
    "import networkx as nx\n",
    "import random"
   ]
  },
  {
   "cell_type": "code",
   "execution_count": 12,
   "metadata": {
    "collapsed": true
   },
   "outputs": [],
   "source": [
    "duplas = 32\n",
    "rodadas = 4"
   ]
  },
  {
   "cell_type": "code",
   "execution_count": 13,
   "metadata": {
    "collapsed": true
   },
   "outputs": [],
   "source": [
    "power = [random.random() for i in range(duplas)]\n",
    "power.sort(reverse=True)"
   ]
  },
  {
   "cell_type": "code",
   "execution_count": 19,
   "metadata": {
    "collapsed": true
   },
   "outputs": [],
   "source": [
    "def campeonato_aleatorio_padrao(power, rodadas):\n",
    "    duplas = len(power)\n",
    "    tabela = [0 for i in range(duplas)]\n",
    "    def gerar_rodada_aleatoria(duplas): \n",
    "        numeros = list(range(duplas))\n",
    "        random.shuffle(numeros)\n",
    "        rodada = [[]]\n",
    "        while len(numeros) != 0:\n",
    "            if len(rodada[-1]) != 4:\n",
    "                rodada[-1].append(numeros.pop())\n",
    "            else:\n",
    "                rodada.append([])\n",
    "        return rodada\n",
    "    for i in range(rodadas):\n",
    "        rodada = gerar_rodada_aleatoria(duplas)\n",
    "        for sala in rodada:\n",
    "            A = [(power[dupla]+0.05*np.random.randn(), dupla) for dupla in sala]\n",
    "            A.sort(key = lambda x: x[1])\n",
    "            tabela[A[0][1]] += 3\n",
    "            tabela[A[1][1]] += 2\n",
    "            tabela[A[2][1]] += 1\n",
    "    return tabela"
   ]
  },
  {
   "cell_type": "code",
   "execution_count": 59,
   "metadata": {},
   "outputs": [],
   "source": [
    "A = [[] for i in range(duplas)]\n",
    "for i in range(100):\n",
    "    tabela = campeonato_aleatorio_padrao(power, rodadas) #executa um campeonato e gera a tabela\n",
    "    tabela1 = [(tabela[i], i) for i in range(len(tabela))] #ordena\n",
    "    tabela1.sort(key=lambda x: x[0], reverse=True)\n",
    "    tabela2 = tabela[:]\n",
    "    tabela2.sort(reverse=True)\n",
    "    for item in tabela1:\n",
    "        A[item[1]].append(tabela2.index(item[0]))"
   ]
  },
  {
   "cell_type": "code",
   "execution_count": 64,
   "metadata": {},
   "outputs": [],
   "source": [
    "B = [(sum(item)/len(item), np.var(item), power[A.index(item)]) for item in A]"
   ]
  },
  {
   "cell_type": "code",
   "execution_count": 65,
   "metadata": {},
   "outputs": [
    {
     "data": {
      "text/plain": [
       "[(0.0, 0.0, 0.9910581491787107),\n",
       " (0.87, 1.8531, 0.9747072609089693),\n",
       " (1.9, 3.8899999999999992, 0.9276184718829048),\n",
       " (2.59, 4.1018999999999997, 0.8736393192066692),\n",
       " (3.51, 6.7298999999999989, 0.8722475706039583),\n",
       " (5.11, 8.5179000000000009, 0.8471054205924017),\n",
       " (5.69, 9.2738999999999994, 0.8326921952402379),\n",
       " (6.46, 9.4083999999999985, 0.8202186782292032),\n",
       " (7.38, 15.035599999999999, 0.8067766062053097),\n",
       " (9.08, 14.553600000000003, 0.72238943181455),\n",
       " (9.11, 12.697899999999999, 0.7123185712501755),\n",
       " (9.99, 18.2699, 0.7039354110120123),\n",
       " (11.29, 12.585900000000002, 0.613563059899),\n",
       " (11.29, 17.885900000000003, 0.5322664931368262),\n",
       " (13.63, 17.2331, 0.5286067798458323),\n",
       " (13.46, 18.688400000000005, 0.5244440279326226),\n",
       " (15.37, 16.373100000000001, 0.4807640361514911),\n",
       " (15.96, 17.1584, 0.43893197581866894),\n",
       " (16.1, 15.930000000000001, 0.4370956090239885),\n",
       " (18.36, 14.750400000000004, 0.404124253632255),\n",
       " (18.59, 17.041899999999998, 0.34717625671707186),\n",
       " (18.81, 15.713900000000001, 0.31428232255203814),\n",
       " (20.87, 14.973100000000004, 0.2774130714728662),\n",
       " (21.34, 11.124399999999998, 0.26933564913339525),\n",
       " (22.24, 10.462400000000002, 0.24263074938502793),\n",
       " (23.07, 12.005100000000001, 0.2332188643042694),\n",
       " (24.18, 11.5276, 0.1682043914879764),\n",
       " (25.09, 7.5018999999999991, 0.1366066731984631),\n",
       " (26.12, 5.2656000000000009, 0.13502825873141455),\n",
       " (27.08, 4.0935999999999986, 0.08228117290432235),\n",
       " (28.06, 1.9164000000000001, 0.03955043701993588),\n",
       " (29.08, 0.91359999999999986, 0.03532897695680748)]"
      ]
     },
     "execution_count": 65,
     "metadata": {},
     "output_type": "execute_result"
    }
   ],
   "source": [
    "B"
   ]
  },
  {
   "cell_type": "code",
   "execution_count": 57,
   "metadata": {
    "collapsed": true
   },
   "outputs": [],
   "source": [
    "C = B[:]\n",
    "C.sort()"
   ]
  },
  {
   "cell_type": "code",
   "execution_count": 58,
   "metadata": {},
   "outputs": [
    {
     "data": {
      "text/plain": [
       "False"
      ]
     },
     "execution_count": 58,
     "metadata": {},
     "output_type": "execute_result"
    }
   ],
   "source": [
    "C==B"
   ]
  },
  {
   "cell_type": "code",
   "execution_count": null,
   "metadata": {
    "collapsed": true
   },
   "outputs": [],
   "source": []
  }
 ],
 "metadata": {
  "kernelspec": {
   "display_name": "Python 3",
   "language": "python",
   "name": "python3"
  },
  "language_info": {
   "codemirror_mode": {
    "name": "ipython",
    "version": 3
   },
   "file_extension": ".py",
   "mimetype": "text/x-python",
   "name": "python",
   "nbconvert_exporter": "python",
   "pygments_lexer": "ipython3",
   "version": "3.6.3"
  }
 },
 "nbformat": 4,
 "nbformat_minor": 2
}

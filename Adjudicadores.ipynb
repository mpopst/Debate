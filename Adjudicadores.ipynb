{
 "cells": [
  {
   "cell_type": "markdown",
   "metadata": {},
   "source": [
    "# O problema dos juizes\n",
    "O primeiro problema que queremos resolver é muito simples. Queremos que cada pessoa seja julgada pela quantidade mais diversa de juizes. Para tanto, queremos maximizar a \"soma dos juízes ao quadrado\".\n",
    "\n",
    "Seja $A_{j \\times d}$ uma matriz, onde $d$ é quantidade de dupas e $j$ a de juízes. Cada vez que a d-ésima dupla for julgada pelo $d$-ésimo juíz, soma-se $1$ na intersecção. Queremos que cada juíz (ou grupo de juíz, que permanece constante) esteja associado a i-ésima sala.\n",
    "\n",
    "Primeiramente conseguiremos, por algum método, como iremos dividir as duplas em salas. A princípio, elas não estão associadas a sala alguma. Para os problemas atuais, podemos encarar o algoritmo $n!$ que é testar todas as permutações e verificar qual gera o menor SJQ. Mas pode ser um problema legal pensar como fazer isso acaso tenhamos 80 debatedores em um campeonato. "
   ]
  },
  {
   "cell_type": "code",
   "execution_count": 1,
   "metadata": {
    "collapsed": true
   },
   "outputs": [],
   "source": [
    "import numpy as np\n",
    "import random"
   ]
  },
  {
   "cell_type": "code",
   "execution_count": 13,
   "metadata": {
    "collapsed": true
   },
   "outputs": [],
   "source": [
    "#GLOBAL\n",
    "duplas = 16 \n",
    "rodadas = 6\n",
    "rodada_atual = 0\n",
    "juizes= 4"
   ]
  },
  {
   "cell_type": "code",
   "execution_count": 7,
   "metadata": {},
   "outputs": [],
   "source": [
    "tabela = np.zeros(duplas*duplas).reshape(duplas, duplas)\n",
    "power = [random.random() for i in range(duplas)]\n",
    "juizes_tabela = np.zeros(juizes*duplas).reshape(juizes, duplas)"
   ]
  },
  {
   "cell_type": "code",
   "execution_count": 9,
   "metadata": {},
   "outputs": [
    {
     "data": {
      "text/plain": [
       "[2, 8, 15, 3, 1, 7, 4, 12, 6, 10, 0, 11, 5, 13, 9, 14]"
      ]
     },
     "execution_count": 9,
     "metadata": {},
     "output_type": "execute_result"
    }
   ],
   "source": [
    "numeros = [i for i in range(pares)]\n",
    "random.shuffle(numeros)\n",
    "numeros"
   ]
  },
  {
   "cell_type": "code",
   "execution_count": 11,
   "metadata": {
    "collapsed": true
   },
   "outputs": [],
   "source": [
    "rodada = [[]]\n",
    "while len(numeros) != 0:\n",
    "    if len(rodada[-1]) != 4:\n",
    "        rodada[-1].append(numeros.pop())\n",
    "    else:\n",
    "        rodada.append([])"
   ]
  },
  {
   "cell_type": "code",
   "execution_count": 12,
   "metadata": {},
   "outputs": [
    {
     "data": {
      "text/plain": [
       "[[14, 9, 13, 5], [11, 0, 10, 6], [12, 4, 7, 1], [3, 15, 8, 2]]"
      ]
     },
     "execution_count": 12,
     "metadata": {},
     "output_type": "execute_result"
    }
   ],
   "source": [
    "rodada"
   ]
  },
  {
   "cell_type": "code",
   "execution_count": null,
   "metadata": {
    "collapsed": true
   },
   "outputs": [],
   "source": []
  }
 ],
 "metadata": {
  "kernelspec": {
   "display_name": "Python 3",
   "language": "python",
   "name": "python3"
  },
  "language_info": {
   "codemirror_mode": {
    "name": "ipython",
    "version": 3
   },
   "file_extension": ".py",
   "mimetype": "text/x-python",
   "name": "python",
   "nbconvert_exporter": "python",
   "pygments_lexer": "ipython3",
   "version": "3.6.3"
  }
 },
 "nbformat": 4,
 "nbformat_minor": 2
}

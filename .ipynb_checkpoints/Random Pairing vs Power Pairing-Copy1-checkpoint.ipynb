{
 "cells": [
  {
   "cell_type": "markdown",
   "metadata": {},
   "source": [
    "# Randon Pairing vs Power Pairing e Page Rank vs Trivial Rank\n",
    "Neste documento, queremos investigar qual é o melhor jeito de fazer o rankeamento e o pairing, para o Campeonato Fluminense de Debates"
   ]
  },
  {
   "cell_type": "code",
   "execution_count": 14,
   "metadata": {},
   "outputs": [],
   "source": [
    "import numpy as np\n",
    "import matplotlib\n",
    "import matplotlib.pyplot as plt\n",
    "import networkx as nx\n",
    "import random\n",
    "%matplotlib inline"
   ]
  },
  {
   "cell_type": "code",
   "execution_count": 3,
   "metadata": {
    "collapsed": true
   },
   "outputs": [],
   "source": [
    "duplas = 32\n",
    "rodadas = 4"
   ]
  },
  {
   "cell_type": "code",
   "execution_count": 4,
   "metadata": {
    "collapsed": true
   },
   "outputs": [],
   "source": [
    "power = [random.random() for i in range(duplas)]\n",
    "power.sort(reverse=True)"
   ]
  },
  {
   "cell_type": "markdown",
   "metadata": {},
   "source": [
    "## Paring aleatório e trivial rank"
   ]
  },
  {
   "cell_type": "code",
   "execution_count": 37,
   "metadata": {
    "collapsed": true
   },
   "outputs": [],
   "source": [
    "def campeonato_aleatorio_padrao(power, rodadas): #Trivial Rank, Random Pairing\n",
    "    duplas = len(power)\n",
    "    tabela = [0 for i in range(duplas)]\n",
    "    def gerar_rodada_aleatoria(duplas): \n",
    "        numeros = list(range(duplas))\n",
    "        random.shuffle(numeros)\n",
    "        rodada = [[]]\n",
    "        while len(numeros) != 0:\n",
    "            if len(rodada[-1]) != 4:\n",
    "                rodada[-1].append(numeros.pop())\n",
    "            else:\n",
    "                rodada.append([])\n",
    "        return rodada\n",
    "    for i in range(rodadas):\n",
    "        rodada = gerar_rodada_aleatoria(duplas)\n",
    "        for sala in rodada:\n",
    "            A = [(power[dupla]+0.05*np.random.randn(), dupla) for dupla in sala]\n",
    "            A.sort(key = lambda x: x[1])\n",
    "            tabela[A[0][1]] += 3\n",
    "            tabela[A[1][1]] += 2\n",
    "            tabela[A[2][1]] += 1\n",
    "    return tabela"
   ]
  },
  {
   "cell_type": "code",
   "execution_count": 42,
   "metadata": {
    "collapsed": true
   },
   "outputs": [],
   "source": [
    "A = [[] for i in range(duplas)]\n",
    "for i in range(1000):\n",
    "    tabela = campeonato_aleatorio_padrao(power, rodadas) #executa um campeonato e gera a tabela\n",
    "    tabela1 = [(tabela[i], i) for i in range(len(tabela))] #ordena\n",
    "    tabela1.sort(key=lambda x: x[0], reverse=True)\n",
    "    tabela2 = tabela[:]\n",
    "    tabela2.sort(reverse=True)\n",
    "    for item in tabela1:\n",
    "        A[item[1]].append(tabela2.index(item[0]))"
   ]
  },
  {
   "cell_type": "code",
   "execution_count": 43,
   "metadata": {},
   "outputs": [
    {
     "data": {
      "image/png": "[encoded data removed]",
      "text/plain": [
       "<matplotlib.figure.Figure at 0x7f16f970e198>"
      ]
     },
     "metadata": {},
     "output_type": "display_data"
    }
   ],
   "source": [
    "C = [(sum(item)/len(item), np.var(item)) for item in A]\n",
    "plt.plot(C)\n",
    "plt.show()"
   ]
  },
  {
   "cell_type": "markdown",
   "metadata": {},
   "source": [
    "A variância é maior justamente no meio, onde menos gostaríamos que houvesse variância."
   ]
  },
  {
   "cell_type": "code",
   "execution_count": 52,
   "metadata": {},
   "outputs": [
    {
     "data": {
      "text/plain": [
       "347.30658600000004"
      ]
     },
     "execution_count": 52,
     "metadata": {},
     "output_type": "execute_result"
    }
   ],
   "source": [
    "a = [i[1] for i in C]\n",
    "sum(a)"
   ]
  },
  {
   "cell_type": "markdown",
   "metadata": {
    "collapsed": true
   },
   "source": [
    "## Power paring, trivial ranking\n",
    "### Caso 1: Primeira rodada aleatória, demais por power paring aleatório."
   ]
  },
  {
   "cell_type": "code",
   "execution_count": 34,
   "metadata": {},
   "outputs": [],
   "source": [
    "def campeonato_power_paired_rank_padrao(power, rodadas):\n",
    "    duplas = len(power)\n",
    "    tabela = [0 for i in range(duplas)]\n",
    "    def gerar_rodada_power_paired(duplas, tabela): \n",
    "        if sum(tabela)==0:\n",
    "            numeros = list(range(duplas))\n",
    "            random.shuffle(numeros)\n",
    "            rodada = [[]]\n",
    "            while len(numeros) != 0:\n",
    "                if len(rodada[-1]) != 4:\n",
    "                    rodada[-1].append(numeros.pop())\n",
    "                else:\n",
    "                    rodada.append([])\n",
    "            return rodada\n",
    "        else:\n",
    "            tabela1 = [(tabela[i], i) for i in range(duplas)]\n",
    "            tabela1.sort(key=lambda x: x[0], reverse=True)\n",
    "            numeros = [i[1] for i in tabela1]\n",
    "            rodada = [[]] \n",
    "            while len(numeros) != 0:\n",
    "                if len(rodada[-1]) != 4:\n",
    "                    rodada[-1].append(numeros.pop())\n",
    "                else:\n",
    "                    rodada.append([])\n",
    "            return rodada\n",
    "    for i in range(rodadas):\n",
    "        rodada = gerar_rodada_power_paired(duplas, tabela)\n",
    "        for sala in rodada:\n",
    "            A = [(power[dupla]+0.05*np.random.randn(), dupla) for dupla in sala]\n",
    "            A.sort(key = lambda x: x[1])\n",
    "            tabela[A[0][1]] += 3\n",
    "            tabela[A[1][1]] += 2\n",
    "            tabela[A[2][1]] += 1\n",
    "    return tabela"
   ]
  },
  {
   "cell_type": "code",
   "execution_count": 44,
   "metadata": {},
   "outputs": [],
   "source": [
    "A = [[] for i in range(duplas)]\n",
    "for i in range(1000):\n",
    "    tabela = campeonato_power_paired_rank_padrao(power, rodadas) #executa um campeonato e gera a tabela\n",
    "    tabela1 = [(tabela[i], i) for i in range(len(tabela))] #ordena\n",
    "    tabela1.sort(key=lambda x: x[0], reverse=True)\n",
    "    tabela2 = tabela[:]\n",
    "    tabela2.sort(reverse=True)\n",
    "    for item in tabela1:\n",
    "        A[item[1]].append(tabela2.index(item[0]))"
   ]
  },
  {
   "cell_type": "code",
   "execution_count": 54,
   "metadata": {},
   "outputs": [
    {
     "data": {
      "image/png": "[encoded data removed]",
      "text/plain": [
       "<matplotlib.figure.Figure at 0x7f16f9610f28>"
      ]
     },
     "metadata": {},
     "output_type": "display_data"
    }
   ],
   "source": [
    "B = [(sum(item)/len(item), np.var(item), A.index(item)) for item in A]\n",
    "plt.plot(B)\n",
    "plt.show()"
   ]
  },
  {
   "cell_type": "markdown",
   "metadata": {},
   "source": [
    "É interessante que a variância seja menor justamente no break e mesmo havendo algumas duplas que não ficam no seu lugar de fato na maioria das vezes, é pouco importante porque acontece justamente longe do break."
   ]
  },
  {
   "cell_type": "code",
   "execution_count": 53,
   "metadata": {},
   "outputs": [
    {
     "data": {
      "text/plain": [
       "288.66520700000007"
      ]
     },
     "execution_count": 53,
     "metadata": {},
     "output_type": "execute_result"
    }
   ],
   "source": [
    "a = [i[1] for i in B]\n",
    "sum(a)"
   ]
  },
  {
   "cell_type": "code",
   "execution_count": null,
   "metadata": {
    "collapsed": true
   },
   "outputs": [],
   "source": []
  }
 ],
 "metadata": {
  "kernelspec": {
   "display_name": "Python 3",
   "language": "python",
   "name": "python3"
  },
  "language_info": {
   "codemirror_mode": {
    "name": "ipython",
    "version": 3
   },
   "file_extension": ".py",
   "mimetype": "text/x-python",
   "name": "python",
   "nbconvert_exporter": "python",
   "pygments_lexer": "ipython3",
   "version": "3.6.3"
  }
 },
 "nbformat": 4,
 "nbformat_minor": 2
}

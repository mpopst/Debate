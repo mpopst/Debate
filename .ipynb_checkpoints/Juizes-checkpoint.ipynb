{
 "cells": [
  {
   "cell_type": "markdown",
   "metadata": {},
   "source": [
    "# O problema dos juizes\n",
    "O primeiro problema que queremos resolver é muito simples. Queremos que cada pessoa seja julgada pela quantidade mais diversa de juizes. Para tanto, queremos maximizar a \"soma dos juízes ao quadrado\".\n",
    "\n",
    "Seja $A_{j \\times d}$ uma matriz, onde $d$ é quantidade de dupas e $j$ a de juízes. Cada vez que a d-ésima dupla for julgada pelo $d$-ésimo juíz, soma-se $1$ na intersecção. Queremos que cada juíz (ou grupo de juíz, que permanece constante) esteja associado a i-ésima sala.\n",
    "\n",
    "Primeiramente conseguiremos, por algum método, como iremos dividir as duplas em salas. A princípio, elas não estão associadas a sala alguma. Para os problemas atuais, podemos encarar o algoritmo $n!$ que é testar todas as permutações e verificar qual gera o menor SJQ. Mas pode ser um problema legal pensar como fazer isso acaso tenhamos 80 debatedores em um campeonato. "
   ]
  },
  {
   "cell_type": "code",
   "execution_count": 1,
   "metadata": {
    "collapsed": true
   },
   "outputs": [],
   "source": [
    "import numpy as np\n",
    "import random\n",
    "from itertools import permutations as perma"
   ]
  },
  {
   "cell_type": "code",
   "execution_count": 2,
   "metadata": {
    "collapsed": true
   },
   "outputs": [],
   "source": [
    "#GLOBAL\n",
    "duplas = 16 \n",
    "rodadas = 6\n",
    "rodada_atual = 0\n",
    "juizes= 4"
   ]
  },
  {
   "cell_type": "code",
   "execution_count": 3,
   "metadata": {},
   "outputs": [
    {
     "name": "stdout",
     "output_type": "stream",
     "text": [
      "[[ 0.  0.  0.  0.  0.  0.  0.  0.  0.  0.  0.  0.  0.  0.  0.  0.]\n",
      " [ 0.  0.  0.  0.  0.  0.  0.  0.  0.  0.  0.  0.  0.  0.  0.  0.]\n",
      " [ 0.  0.  0.  0.  0.  0.  0.  0.  0.  0.  0.  0.  0.  0.  0.  0.]\n",
      " [ 0.  0.  0.  0.  0.  0.  0.  0.  0.  0.  0.  0.  0.  0.  0.  0.]]\n"
     ]
    }
   ],
   "source": [
    "tabela = np.zeros(duplas*duplas).reshape(duplas, duplas)\n",
    "power = [random.random() for i in range(duplas)]\n",
    "juizes_tabela = np.zeros(juizes*duplas).reshape(juizes, duplas)\n",
    "print(juizes_tabela)"
   ]
  },
  {
   "cell_type": "code",
   "execution_count": 4,
   "metadata": {
    "collapsed": true
   },
   "outputs": [],
   "source": [
    "def gerar_rodada_aleatória(duplas):#pode ser outro método\n",
    "    numeros = list(range(duplas))\n",
    "    random.shuffle(numeros)\n",
    "    rodada = [[]]\n",
    "    while len(numeros) != 0:\n",
    "        if len(rodada[-1]) != 4:\n",
    "            rodada[-1].append(numeros.pop())\n",
    "        else:\n",
    "            rodada.append([])\n",
    "    return rodada"
   ]
  },
  {
   "cell_type": "code",
   "execution_count": 5,
   "metadata": {
    "collapsed": true
   },
   "outputs": [],
   "source": [
    "def SJQ(A):\n",
    "    v = 0\n",
    "    for item in A:\n",
    "        for valor in item:\n",
    "            v = v + valor*valor\n",
    "    return v"
   ]
  },
  {
   "cell_type": "code",
   "execution_count": 12,
   "metadata": {},
   "outputs": [],
   "source": [
    "def minimizar(rodada, juizes_tabela):\n",
    "    N = len(rodada)\n",
    "    conf_ideal = None\n",
    "    menor_SJQ = 100000000\n",
    "    for perm in list(perma(rodada)):\n",
    "        A = juizes_tabela[:][:]\n",
    "        for sala in perm:\n",
    "            for dupla in sala:\n",
    "                A[rodada.index(sala)][dupla] =+ 1\n",
    "            j =+ 1\n",
    "        if SJQ(A) < menor_SJQ:\n",
    "            menor_SJQ = SJQ(A)\n",
    "            conf_ideal = perm\n",
    "    return conf_ideal, menor_SJQ"
   ]
  },
  {
   "cell_type": "code",
   "execution_count": 22,
   "metadata": {},
   "outputs": [],
   "source": [
    "rodada = gerar_rodada_aleatória(duplas)\n",
    "rodada, menor_SJQ = minimizar(rodada, juizes_tabela)\n",
    "for sala in rodada:\n",
    "    for dupla in sala:\n",
    "        juizes_tabela[rodada.index(sala)][dupla] =+ 1"
   ]
  },
  {
   "cell_type": "code",
   "execution_count": 23,
   "metadata": {},
   "outputs": [
    {
     "data": {
      "text/plain": [
       "([5, 1, 10, 15], [14, 13, 0, 11], [6, 4, 2, 8], [9, 3, 12, 7])"
      ]
     },
     "execution_count": 23,
     "metadata": {},
     "output_type": "execute_result"
    }
   ],
   "source": [
    "rodada"
   ]
  },
  {
   "cell_type": "code",
   "execution_count": 24,
   "metadata": {},
   "outputs": [
    {
     "data": {
      "text/plain": [
       "45.0"
      ]
     },
     "execution_count": 24,
     "metadata": {},
     "output_type": "execute_result"
    }
   ],
   "source": [
    "SJQ(juizes_tabela)"
   ]
  },
  {
   "cell_type": "code",
   "execution_count": 25,
   "metadata": {},
   "outputs": [
    {
     "data": {
      "text/plain": [
       "45.0"
      ]
     },
     "execution_count": 25,
     "metadata": {},
     "output_type": "execute_result"
    }
   ],
   "source": [
    "menor_SJQ"
   ]
  },
  {
   "cell_type": "code",
   "execution_count": 17,
   "metadata": {},
   "outputs": [
    {
     "data": {
      "text/plain": [
       "array([[ 1.,  1.,  0.,  1.,  1.,  0.,  0.,  0.,  1.,  0.,  0.,  0.,  0.,\n",
       "         1.,  0.,  1.],\n",
       "       [ 0.,  0.,  1.,  0.,  1.,  0.,  1.,  1.,  0.,  1.,  0.,  1.,  0.,\n",
       "         0.,  1.,  0.],\n",
       "       [ 1.,  1.,  1.,  1.,  0.,  1.,  0.,  0.,  0.,  0.,  1.,  0.,  1.,\n",
       "         0.,  0.,  0.],\n",
       "       [ 0.,  0.,  0.,  0.,  0.,  0.,  1.,  1.,  1.,  1.,  1.,  0.,  1.,\n",
       "         1.,  1.,  0.]])"
      ]
     },
     "execution_count": 17,
     "metadata": {},
     "output_type": "execute_result"
    }
   ],
   "source": [
    "juizes_tabela"
   ]
  },
  {
   "cell_type": "code",
   "execution_count": null,
   "metadata": {
    "collapsed": true
   },
   "outputs": [],
   "source": []
  }
 ],
 "metadata": {
  "kernelspec": {
   "display_name": "Python 3",
   "language": "python",
   "name": "python3"
  },
  "language_info": {
   "codemirror_mode": {
    "name": "ipython",
    "version": 3
   },
   "file_extension": ".py",
   "mimetype": "text/x-python",
   "name": "python",
   "nbconvert_exporter": "python",
   "pygments_lexer": "ipython3",
   "version": "3.6.3"
  }
 },
 "nbformat": 4,
 "nbformat_minor": 2
}

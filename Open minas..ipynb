{
 "cells": [
  {
   "cell_type": "markdown",
   "metadata": {},
   "source": [
    "# Randon Pairing vs Power Pairing e Page Rank vs Trivial Rank\n",
    "Neste documento, queremos investigar qual é o melhor jeito de fazer o rankeamento e o pairing, para o IV Open Minas. Usamos os parâmetros pertinentes ao Torneio: 16 classificados, 3 rodadas e 48 debatedores.\n",
    "\n",
    "O objetivo é que os 8 melhores debatedores passem de fase com a menor variância para o 8º colocado. Também objetivamos que cada debate (sala) seja mais equilibrado quanto o possível. Talvez algunas destes requisitos entrem em conflito entre si."
   ]
  },
  {
   "cell_type": "code",
   "execution_count": 1,
   "metadata": {},
   "outputs": [],
   "source": [
    "import numpy as np\n",
    "import matplotlib\n",
    "import matplotlib.pyplot as plt\n",
    "import networkx as nx\n",
    "import random"
   ]
  },
  {
   "cell_type": "code",
   "execution_count": 2,
   "metadata": {},
   "outputs": [],
   "source": [
    "duplas = 48\n",
    "rodadas = 3\n",
    "teste = 1000\n",
    "sigma = 0.05"
   ]
  },
  {
   "cell_type": "code",
   "execution_count": 3,
   "metadata": {},
   "outputs": [],
   "source": [
    "power = [random.random() for i in range(duplas)]\n",
    "power.sort(reverse=True)"
   ]
  },
  {
   "cell_type": "markdown",
   "metadata": {},
   "source": [
    "## Paring aleatório e trivial rank"
   ]
  },
  {
   "cell_type": "code",
   "execution_count": 4,
   "metadata": {},
   "outputs": [],
   "source": [
    "def campeonato_aleatorio_padrao(power, rodadas): #Trivial Rank, Random Pairing\n",
    "    global Avar\n",
    "    duplas = len(power)\n",
    "    tabela = [[0,0] for i in range(duplas)]\n",
    "    def gerar_rodada_aleatoria(duplas): \n",
    "        numeros = list(range(duplas))\n",
    "        random.shuffle(numeros)\n",
    "        rodada = [[]]\n",
    "        while len(numeros) != 0:\n",
    "            if len(rodada[-1]) != 4:\n",
    "                rodada[-1].append(numeros.pop())\n",
    "            else:\n",
    "                rodada.append([])\n",
    "        return rodada\n",
    "    for i in range(rodadas):\n",
    "        rodada = gerar_rodada_aleatoria(duplas)\n",
    "        for sala in rodada:\n",
    "            A = [(power[dupla]+sigma*np.random.randn(), dupla) for dupla in sala]\n",
    "            azinho = [i[0] for i in A]\n",
    "            Avar += np.var(azinho)\n",
    "            A.sort(key = lambda x: x[1])\n",
    "            tabela[A[0][1]][0] += 3\n",
    "            tabela[A[0][1]][1] += A[0][0]\n",
    "            tabela[A[1][1]][0] += 2\n",
    "            tabela[A[1][1]][1] += A[1][0]\n",
    "            tabela[A[2][1]][0] += 1\n",
    "            tabela[A[2][1]][1] += A[2][0]\n",
    "            tabela[A[3][1]][1] += A[3][0]\n",
    "    return tabela"
   ]
  },
  {
   "cell_type": "code",
   "execution_count": 5,
   "metadata": {},
   "outputs": [
    {
     "data": {
      "text/plain": [
       "0.05326035725393239"
      ]
     },
     "execution_count": 5,
     "metadata": {},
     "output_type": "execute_result"
    }
   ],
   "source": [
    "A = [[] for i in range(duplas)]\n",
    "Avar = 0 #variância das partidas\n",
    "for i in range(teste):\n",
    "    tabela = campeonato_aleatorio_padrao(power, rodadas) #executa um campeonato e gera a tabela\n",
    "    tabela1 = [(tabela[i][0], tabela[i][1], i) for i in range(len(tabela))] #ordena\n",
    "    tabela1.sort(key=lambda x: (x[0], x[1]), reverse=True)\n",
    "    tabela2 = tabela[:]\n",
    "    tabela2.sort(key=lambda x: (x[0], x[1]), reverse=True)\n",
    "    n = 0\n",
    "    for item in tabela1:\n",
    "        A[item[2]].append(n)\n",
    "        n += 1\n",
    "Avar/(teste*duplas) #Variância média das salas. Mede o quanto que neste modelo de campeonato o nível das duplas é díspar."
   ]
  },
  {
   "cell_type": "code",
   "execution_count": 6,
   "metadata": {},
   "outputs": [
    {
     "data": {
      "image/png": "[encoded data removed]",
      "text/plain": [
       "<Figure size 432x288 with 1 Axes>"
      ]
     },
     "metadata": {},
     "output_type": "display_data"
    }
   ],
   "source": [
    "a_ = [[(item - A.index(lista1))**2 for item in lista1] for lista1 in A]\n",
    "a = [(sum(item)/len(item), (np.var(a_[A.index(item)]))**0.5 ) for item in A]\n",
    "plt.plot(a)\n",
    "plt.xlabel('Each team from 0 (the better) to 15 (the worst)')\n",
    "plt.title('Average position and stadard deviation of the error')\n",
    "plt.show()"
   ]
  },
  {
   "cell_type": "markdown",
   "metadata": {},
   "source": [
    "Verificamos como o erro "
   ]
  },
  {
   "cell_type": "code",
   "execution_count": 7,
   "metadata": {},
   "outputs": [
    {
     "data": {
      "text/plain": [
       "1031.054"
      ]
     },
     "execution_count": 7,
     "metadata": {},
     "output_type": "execute_result"
    }
   ],
   "source": [
    "sum([np.average(item) for item in a_]) #Soma dos erros ao quadrado"
   ]
  },
  {
   "cell_type": "code",
   "execution_count": 8,
   "metadata": {},
   "outputs": [
    {
     "data": {
      "text/plain": [
       "1736.5844539123761"
      ]
     },
     "execution_count": 8,
     "metadata": {},
     "output_type": "execute_result"
    }
   ],
   "source": [
    "sum([(np.var(item))**0.5 for item in a_]) #Soma do desvio padrão do erro para todos debatedores"
   ]
  },
  {
   "cell_type": "code",
   "execution_count": 9,
   "metadata": {},
   "outputs": [
    {
     "data": {
      "text/plain": [
       "16.715"
      ]
     },
     "execution_count": 9,
     "metadata": {},
     "output_type": "execute_result"
    }
   ],
   "source": [
    "a[15][0]+1 #Posição média do 16º melhor time"
   ]
  },
  {
   "cell_type": "code",
   "execution_count": 10,
   "metadata": {},
   "outputs": [
    {
     "data": {
      "text/plain": [
       "46.10525339915182"
      ]
     },
     "execution_count": 10,
     "metadata": {},
     "output_type": "execute_result"
    }
   ],
   "source": [
    "(np.var(a_[15]))**0.5 #Desvio padrão do erro 16º melhor debatedor."
   ]
  },
  {
   "cell_type": "markdown",
   "metadata": {
    "collapsed": true
   },
   "source": [
    "## Power paring, trivial ranking\n",
    "### Caso 1: Primeira rodada aleatória, demais por power paring."
   ]
  },
  {
   "cell_type": "code",
   "execution_count": 11,
   "metadata": {},
   "outputs": [],
   "source": [
    "def campeonato_power_paired_rank_padrao(power, rodadas):\n",
    "    global Bvar\n",
    "    duplas = len(power)\n",
    "    tabela = [[0,0] for i in range(duplas)]\n",
    "    def gerar_rodada_power_paired(duplas, tabela): \n",
    "        if sum([sum(x) for x in tabela])== 0:\n",
    "            numeros = list(range(duplas))\n",
    "            random.shuffle(numeros)\n",
    "            rodada = [[]]\n",
    "            while len(numeros) != 0:\n",
    "                if len(rodada[-1]) != 4:\n",
    "                    rodada[-1].append(numeros.pop())\n",
    "                else:\n",
    "                    rodada.append([])\n",
    "            return rodada\n",
    "        else:\n",
    "            tabela1 = [(tabela[i][0], tabela[i][1], i) for i in range(duplas)]\n",
    "            tabela1.sort(key=lambda x: (x[0], x[1]), reverse=True)\n",
    "            numeros = [i[2] for i in tabela1]\n",
    "            rodada = [[]] \n",
    "            while len(numeros) != 0:\n",
    "                if len(rodada[-1]) != 4:\n",
    "                    rodada[-1].append(numeros.pop())\n",
    "                else:\n",
    "                    rodada.append([])\n",
    "            return rodada\n",
    "    for i in range(rodadas):\n",
    "        rodada = gerar_rodada_power_paired(duplas, tabela)\n",
    "        for sala in rodada:\n",
    "            A = [(power[dupla]+sigma*np.random.randn(), dupla) for dupla in sala]\n",
    "            azinho = [i[0] for i in A]\n",
    "            Bvar += np.var(azinho)\n",
    "            A.sort(key = lambda x: x[1])\n",
    "            tabela[A[0][1]][0] += 3\n",
    "            tabela[A[0][1]][1] += A[0][0]\n",
    "            tabela[A[1][1]][0] += 2\n",
    "            tabela[A[1][1]][1] += A[1][0]\n",
    "            tabela[A[2][1]][0] += 1\n",
    "            tabela[A[2][1]][1] += A[2][0]\n",
    "            tabela[A[3][1]][1] += A[3][0]\n",
    "    return tabela"
   ]
  },
  {
   "cell_type": "code",
   "execution_count": 12,
   "metadata": {},
   "outputs": [
    {
     "data": {
      "text/plain": [
       "0.026575408983840865"
      ]
     },
     "execution_count": 12,
     "metadata": {},
     "output_type": "execute_result"
    }
   ],
   "source": [
    "B = [[] for i in range(duplas)]\n",
    "Bvar = 0\n",
    "for i in range(teste):\n",
    "    tabela = campeonato_power_paired_rank_padrao(power, rodadas) #executa um campeonato e gera a tabela\n",
    "    tabela1 = [(tabela[i][0], tabela[i][1], i) for i in range(len(tabela))] #ordena\n",
    "    tabela1.sort(key=lambda x: (x[0], x[1]), reverse=True)\n",
    "    tabela2 = tabela[:]\n",
    "    tabela2.sort(key=lambda x: (x[0], x[1]), reverse=True)\n",
    "    n = 0\n",
    "    for item in tabela1:\n",
    "        B[item[2]].append(n)\n",
    "        n += 1\n",
    "Bvar/(teste*duplas) #mostra a variância média das partidas neste modelo de campeonato"
   ]
  },
  {
   "cell_type": "code",
   "execution_count": 13,
   "metadata": {},
   "outputs": [
    {
     "data": {
      "image/png": "[encoded data removed]",
      "text/plain": [
       "<Figure size 432x288 with 1 Axes>"
      ]
     },
     "metadata": {},
     "output_type": "display_data"
    }
   ],
   "source": [
    "b_ = [[(item - B.index(lista1))**2 for item in lista1] for lista1 in B]\n",
    "b = [(sum(item)/len(item), (np.var(b_[B.index(item)]))**0.5, B.index(item)) for item in B]\n",
    "plt.plot(b)\n",
    "plt.xlabel('Each team from 0 (the better) to 15 (the worst)')\n",
    "plt.title('Average position and standard deviation the error squared')\n",
    "plt.show()"
   ]
  },
  {
   "cell_type": "code",
   "execution_count": 14,
   "metadata": {},
   "outputs": [
    {
     "data": {
      "text/plain": [
       "865.2420000000001"
      ]
     },
     "execution_count": 14,
     "metadata": {},
     "output_type": "execute_result"
    }
   ],
   "source": [
    "sum([np.average(item) for item in b_]) #Soma dos erros ao quadrado"
   ]
  },
  {
   "cell_type": "markdown",
   "metadata": {},
   "source": [
    "É interessante que a variância seja menor justamente no break e mesmo havendo algumas duplas que não ficam no seu lugar de fato na maioria das vezes, é pouco importante porque acontece justamente longe do break."
   ]
  },
  {
   "cell_type": "code",
   "execution_count": 15,
   "metadata": {},
   "outputs": [
    {
     "data": {
      "text/plain": [
       "1146.380626096898"
      ]
     },
     "execution_count": 15,
     "metadata": {},
     "output_type": "execute_result"
    }
   ],
   "source": [
    "sum([(np.var(item))**0.5 for item in b_]) #Soma dos desvios padrão dos erros com relação à posição correta"
   ]
  },
  {
   "cell_type": "code",
   "execution_count": 16,
   "metadata": {},
   "outputs": [
    {
     "data": {
      "text/plain": [
       "28.9936914517624"
      ]
     },
     "execution_count": 16,
     "metadata": {},
     "output_type": "execute_result"
    }
   ],
   "source": [
    "(np.var(b_[15]))**0.5 #Desvio padrão do erro do 16º colocado com relação à posição correta."
   ]
  },
  {
   "cell_type": "code",
   "execution_count": 17,
   "metadata": {},
   "outputs": [
    {
     "data": {
      "text/plain": [
       "15.246"
      ]
     },
     "execution_count": 17,
     "metadata": {},
     "output_type": "execute_result"
    }
   ],
   "source": [
    "b[15][0]+1 #posição média do 16º time"
   ]
  },
  {
   "cell_type": "markdown",
   "metadata": {},
   "source": [
    "Aqui a variância total do campeonato é menor que no outro caso."
   ]
  },
  {
   "cell_type": "markdown",
   "metadata": {
    "collapsed": true
   },
   "source": [
    "# Campeonato Comum + Pairing por reputação"
   ]
  },
  {
   "cell_type": "code",
   "execution_count": 18,
   "metadata": {},
   "outputs": [],
   "source": [
    "def campeonato_power_paired_rank_padrao(power, rodadas):\n",
    "    global Dvar\n",
    "    duplas = len(power)\n",
    "    tabela = [[0,0] for i in range(duplas)]\n",
    "    def gerar_rodada_power_paired(duplas, tabela): \n",
    "        if sum([sum(x) for x in tabela])== 0:\n",
    "            tabela1 = [(tabela[i][0], (0.1*np.random.randn()+power[i]), i) for i in range(duplas)]\n",
    "            tabela1.sort(key=lambda x: (x[0], x[1]), reverse=True)\n",
    "            numeros0 = []\n",
    "            k = len(tabela1)\n",
    "            while len(numeros0) < 0.25*k:\n",
    "                a = tabela1.pop(0)\n",
    "                numeros0.append(a[2])\n",
    "            numeros = [i[2] for i in tabela1]\n",
    "            random.shuffle(numeros)\n",
    "            rodada = [[]] \n",
    "            while (len(numeros)+len(numeros0)) != 0:\n",
    "                if len(rodada[-1]) == 0:\n",
    "                    rodada[-1].append(numeros0.pop())\n",
    "                elif len(rodada[-1]) != 4:\n",
    "                    rodada[-1].append(numeros.pop())\n",
    "                else:\n",
    "                    rodada.append([])\n",
    "            return rodada\n",
    "        else:\n",
    "            tabela1 = [(tabela[i][0], tabela[i][1], i) for i in range(duplas)]\n",
    "            tabela1.sort(key=lambda x: (x[0], x[1]), reverse=True)\n",
    "            numeros = [i[2] for i in tabela1]\n",
    "            rodada = [[]] \n",
    "            while len(numeros) != 0:\n",
    "                if len(rodada[-1]) != 4:\n",
    "                    rodada[-1].append(numeros.pop())\n",
    "                else:\n",
    "                    rodada.append([])\n",
    "            return rodada\n",
    "    for i in range(rodadas):\n",
    "        rodada = gerar_rodada_power_paired(duplas, tabela)\n",
    "        for sala in rodada:\n",
    "            A = [(power[dupla]+sigma*np.random.randn(), dupla) for dupla in sala]\n",
    "            A.sort(key = lambda x: x[1])\n",
    "            azinho = [i[0] for i in A]\n",
    "            Dvar += np.var(azinho)\n",
    "            tabela[A[0][1]][0] += 3\n",
    "            tabela[A[0][1]][1] += A[0][0]\n",
    "            tabela[A[1][1]][0] += 2\n",
    "            tabela[A[1][1]][1] += A[1][0]\n",
    "            tabela[A[2][1]][0] += 1\n",
    "            tabela[A[2][1]][1] += A[2][0]\n",
    "            tabela[A[3][1]][1] += A[3][0]\n",
    "    return tabela"
   ]
  },
  {
   "cell_type": "code",
   "execution_count": 19,
   "metadata": {},
   "outputs": [
    {
     "data": {
      "text/plain": [
       "0.02784652505378688"
      ]
     },
     "execution_count": 19,
     "metadata": {},
     "output_type": "execute_result"
    }
   ],
   "source": [
    "D = [[] for i in range(duplas)]\n",
    "Dvar = 0\n",
    "for i in range(teste):\n",
    "    tabela = campeonato_power_paired_rank_padrao(power, rodadas) #executa um campeonato e gera a tabela\n",
    "    tabela1 = [(tabela[i][0], tabela[i][1], i) for i in range(len(tabela))] #ordena\n",
    "    tabela1.sort(key=lambda x: (x[0], x[1]), reverse=True)\n",
    "    tabela2 = tabela[:]\n",
    "    tabela2.sort(key=lambda x: (x[0], x[1]), reverse=True)\n",
    "    n = 0\n",
    "    for item in tabela1:\n",
    "        D[item[2]].append(n)\n",
    "        n += 1\n",
    "Dvar/(teste*duplas) #mostra a variância média das partidas neste modelo de campeonato"
   ]
  },
  {
   "cell_type": "code",
   "execution_count": 20,
   "metadata": {},
   "outputs": [
    {
     "data": {
      "image/png": "[encoded data removed]",
      "text/plain": [
       "<Figure size 432x288 with 1 Axes>"
      ]
     },
     "metadata": {},
     "output_type": "display_data"
    }
   ],
   "source": [
    "d_ = [[(item - D.index(lista1))**2 for item in lista1] for lista1 in D]\n",
    "d = [(sum(item)/len(item),(np.var(d_[D.index(item)]))**0.5, D.index(item)) for item in D]\n",
    "plt.plot(d)\n",
    "plt.xlabel('Each team from 0 (the better) to 15 (the worst)')\n",
    "plt.title('Average position and standard deviation the error squared')\n",
    "plt.show()"
   ]
  },
  {
   "cell_type": "code",
   "execution_count": 21,
   "metadata": {},
   "outputs": [
    {
     "data": {
      "text/plain": [
       "799.1099999999999"
      ]
     },
     "execution_count": 21,
     "metadata": {},
     "output_type": "execute_result"
    }
   ],
   "source": [
    "sum([np.average(item) for item in d_]) #Soma dos erros ao quadrado"
   ]
  },
  {
   "cell_type": "code",
   "execution_count": 22,
   "metadata": {
    "scrolled": false
   },
   "outputs": [
    {
     "data": {
      "text/plain": [
       "1017.2302598607877"
      ]
     },
     "execution_count": 22,
     "metadata": {},
     "output_type": "execute_result"
    }
   ],
   "source": [
    "sum([(np.var(item))**0.5 for item in d_]) #Soma dos desvios padrão dos erros com relação à posição correta"
   ]
  },
  {
   "cell_type": "code",
   "execution_count": 23,
   "metadata": {},
   "outputs": [
    {
     "data": {
      "text/plain": [
       "6.8013234006331444"
      ]
     },
     "execution_count": 23,
     "metadata": {},
     "output_type": "execute_result"
    }
   ],
   "source": [
    "(np.var(d_[15]))**0.5 #Desvio padrão do erro do 16º colocado com relação à posição correta."
   ]
  },
  {
   "cell_type": "code",
   "execution_count": 24,
   "metadata": {},
   "outputs": [
    {
     "data": {
      "text/plain": [
       "17.33"
      ]
     },
     "execution_count": 24,
     "metadata": {},
     "output_type": "execute_result"
    }
   ],
   "source": [
    "d[15][0]+1 #posição média do 16º time"
   ]
  },
  {
   "cell_type": "markdown",
   "metadata": {},
   "source": [
    "# PageRank com reputação"
   ]
  },
  {
   "cell_type": "code",
   "execution_count": 25,
   "metadata": {},
   "outputs": [],
   "source": [
    "def campeonato_page_rank_paired(power, rodadas):\n",
    "    global Evar\n",
    "    duplas = len(power)\n",
    "    tabela = [[0,0] for i in range(duplas)]\n",
    "    def gerar_rodada_power_paired(duplas, tabela): \n",
    "        if sum([sum(x) for x in tabela])== 0:\n",
    "            tabela1 = [(tabela[i][0], (0.1*np.random.randn()+power[i]), i) for i in range(duplas)]\n",
    "            tabela1.sort(key=lambda x: (x[0], x[1]), reverse=True)\n",
    "            numeros0 = []\n",
    "            k = len(tabela1)\n",
    "            while len(numeros0) < 0.25*k:\n",
    "                a = tabela1.pop(0)\n",
    "                numeros0.append(a[2])\n",
    "            numeros = [i[2] for i in tabela1]\n",
    "            random.shuffle(numeros)\n",
    "            rodada = [[]] \n",
    "            while (len(numeros)+len(numeros0)) != 0:\n",
    "                if len(rodada[-1]) == 0:\n",
    "                    rodada[-1].append(numeros0.pop())\n",
    "                elif len(rodada[-1]) != 4:\n",
    "                    rodada[-1].append(numeros.pop())\n",
    "                else:\n",
    "                    rodada.append([])\n",
    "            return rodada\n",
    "        else:\n",
    "            tabela1 = [(tabela[i][0], tabela[i][1], i) for i in range(duplas)]\n",
    "            tabela1.sort(key=lambda x: (x[0], x[1]), reverse=True)\n",
    "            numeros = [i[2] for i in tabela1]\n",
    "            rodada = [[]] \n",
    "            while len(numeros) != 0:\n",
    "                if len(rodada[-1]) != 4:\n",
    "                    rodada[-1].append(numeros.pop())\n",
    "                else:\n",
    "                    rodada.append([])\n",
    "            return rodada\n",
    "    ADJ = np.zeros(duplas*duplas)\n",
    "    ADJ = ADJ.reshape(duplas, duplas)\n",
    "    for i in range(rodadas):\n",
    "        rodada = gerar_rodada_power_paired(duplas, tabela)\n",
    "        for sala in rodada:\n",
    "            A = [(power[dupla]+sigma*np.random.randn(), dupla) for dupla in sala]\n",
    "            A.sort(key = lambda x: x[1])\n",
    "            azinho = [i[0] for i in A]\n",
    "            ADJ[A[0][1], A[1][1]] += 1\n",
    "            ADJ[A[0][1], A[2][1]] += 1\n",
    "            ADJ[A[0][1], A[3][1]] += 1\n",
    "            ADJ[A[1][1], A[2][1]] += 1\n",
    "            ADJ[A[1][1], A[3][1]] += 1\n",
    "            ADJ[A[2][1], A[3][1]] += 1\n",
    "            Evar += np.var(azinho)\n",
    "            tabela[A[0][1]][0] += 3\n",
    "            tabela[A[0][1]][1] += A[0][0]\n",
    "            tabela[A[1][1]][0] += 2\n",
    "            tabela[A[1][1]][1] += A[1][0]\n",
    "            tabela[A[2][1]][0] += 1\n",
    "            tabela[A[2][1]][1] += A[2][0]\n",
    "            tabela[A[3][1]][1] += A[3][0]\n",
    "    G = nx.from_numpy_matrix(ADJ, parallel_edges=True, create_using=nx.DiGraph())\n",
    "    PR = nx.pagerank(G, alpha=0.9)\n",
    "    tabelosa = [PR[duplas - i - 1] for i in range(duplas)]\n",
    "    return tabelosa"
   ]
  },
  {
   "cell_type": "code",
   "execution_count": 26,
   "metadata": {},
   "outputs": [
    {
     "data": {
      "text/plain": [
       "0.02789238141892564"
      ]
     },
     "execution_count": 26,
     "metadata": {},
     "output_type": "execute_result"
    }
   ],
   "source": [
    "E = [[] for i in range(duplas)]\n",
    "Evar = 0\n",
    "for i in range(teste):\n",
    "    tabela = campeonato_page_rank_paired(power, rodadas) #executa um campeonato e gera a tabela\n",
    "    tabela1 = [(tabela[i], i) for i in range(len(tabela))] #ordena\n",
    "    tabela1.sort(reverse=True)\n",
    "    n = 0\n",
    "    for item in tabela1:\n",
    "        E[item[1]].append(n)\n",
    "        n += 1\n",
    "Evar/(teste*duplas) #mostra a variância média das partidas neste modelo de campeonato"
   ]
  },
  {
   "cell_type": "code",
   "execution_count": 27,
   "metadata": {},
   "outputs": [
    {
     "data": {
      "image/png": "[encoded data removed]",
      "text/plain": [
       "<Figure size 432x288 with 1 Axes>"
      ]
     },
     "metadata": {},
     "output_type": "display_data"
    }
   ],
   "source": [
    "e_ = [[(item - E.index(lista1))**2 for item in lista1] for lista1 in E]\n",
    "e = [(sum(item)/len(item), (np.var(e_[E.index(item)]))**0.5, E.index(item)) for item in E]\n",
    "plt.plot(e)\n",
    "plt.xlabel('Each team from 0 (the better) to 15 (the worst)')\n",
    "plt.title('Average position and variance the error squared')\n",
    "plt.show()"
   ]
  },
  {
   "cell_type": "code",
   "execution_count": 28,
   "metadata": {},
   "outputs": [
    {
     "data": {
      "text/plain": [
       "921.4619944902652"
      ]
     },
     "execution_count": 28,
     "metadata": {},
     "output_type": "execute_result"
    }
   ],
   "source": [
    "sum([(np.var(item))**0.5 for item in e_]) #Soma do desvio padrão dos erros com relação à posição correta"
   ]
  },
  {
   "cell_type": "code",
   "execution_count": 29,
   "metadata": {},
   "outputs": [
    {
     "data": {
      "text/plain": [
       "799.654"
      ]
     },
     "execution_count": 29,
     "metadata": {},
     "output_type": "execute_result"
    }
   ],
   "source": [
    "sum([np.average(item) for item in e_]) #Soma dos erros ao quadrado"
   ]
  },
  {
   "cell_type": "code",
   "execution_count": 30,
   "metadata": {},
   "outputs": [
    {
     "data": {
      "text/plain": [
       "23.878800221116638"
      ]
     },
     "execution_count": 30,
     "metadata": {},
     "output_type": "execute_result"
    }
   ],
   "source": [
    "(np.var(e_[15]))**0.5 #Variância do erro do 16º colocado com relação à posição correta."
   ]
  },
  {
   "cell_type": "code",
   "execution_count": 31,
   "metadata": {},
   "outputs": [
    {
     "data": {
      "text/plain": [
       "15.554"
      ]
     },
     "execution_count": 31,
     "metadata": {},
     "output_type": "execute_result"
    }
   ],
   "source": [
    "e[15][0]+1 #posição média do 16º time"
   ]
  },
  {
   "cell_type": "code",
   "execution_count": 32,
   "metadata": {},
   "outputs": [
    {
     "data": {
      "text/plain": [
       "[(1, 0.0),\n",
       " (2, 0.6004256823287958),\n",
       " (3, 4.43565091052035),\n",
       " (4, 16.89661028135525),\n",
       " (5, 19.13121467654367),\n",
       " (6, 15.97165536192163),\n",
       " (7, 14.71480122189899),\n",
       " (8, 22.506127521188535),\n",
       " (9, 30.133206666400444),\n",
       " (10, 32.2134874703128),\n",
       " (11, 35.46375094374536),\n",
       " (12, 31.843645755472156),\n",
       " (13, 31.87584023990583),\n",
       " (14, 25.66254858738703),\n",
       " (15, 23.935888619393264),\n",
       " (16, 23.878800221116638),\n",
       " (17, 22.442318864145925),\n",
       " (18, 24.42887013351211),\n",
       " (19, 28.355228353868004),\n",
       " (20, 28.335362623407523),\n",
       " (21, 32.98534824736583)]"
      ]
     },
     "execution_count": 32,
     "metadata": {},
     "output_type": "execute_result"
    }
   ],
   "source": [
    "[(e_.index(item) + 1,(np.var(item))**0.5) for item in e_[0:21]] #Desvio padrão para cada uma cada uma das 21 primeiras posições"
   ]
  },
  {
   "cell_type": "markdown",
   "metadata": {},
   "source": [
    "# Page rank sem reputação"
   ]
  },
  {
   "cell_type": "code",
   "execution_count": 33,
   "metadata": {},
   "outputs": [],
   "source": [
    "def campeonato_page_rank_paired_sem_rep(power, rodadas):\n",
    "    global Fvar\n",
    "    duplas = len(power)\n",
    "    tabela = [[0,0] for i in range(duplas)]\n",
    "    def gerar_rodada_power_paired(duplas, tabela): \n",
    "        if sum([sum(x) for x in tabela])== 0:\n",
    "            numeros = list(range(duplas))\n",
    "            random.shuffle(numeros)\n",
    "            rodada = [[]]\n",
    "            while len(numeros) != 0:\n",
    "                if len(rodada[-1]) != 4:\n",
    "                    rodada[-1].append(numeros.pop())\n",
    "                else:\n",
    "                    rodada.append([])\n",
    "            return rodada\n",
    "        else:\n",
    "            tabela1 = [(tabela[i][0], tabela[i][1], i) for i in range(duplas)]\n",
    "            tabela1.sort(key=lambda x: (x[0], x[1]), reverse=True)\n",
    "            numeros = [i[2] for i in tabela1]\n",
    "            rodada = [[]] \n",
    "            while len(numeros) != 0:\n",
    "                if len(rodada[-1]) != 4:\n",
    "                    rodada[-1].append(numeros.pop())\n",
    "                else:\n",
    "                    rodada.append([])\n",
    "            return rodada\n",
    "    ADJ = np.zeros(duplas*duplas)\n",
    "    ADJ = ADJ.reshape(duplas, duplas)\n",
    "    for i in range(rodadas):\n",
    "        rodada = gerar_rodada_power_paired(duplas, tabela)\n",
    "        for sala in rodada:\n",
    "            A = [(power[dupla]+sigma*np.random.randn(), dupla) for dupla in sala]\n",
    "            A.sort(key = lambda x: x[1])\n",
    "            azinho = [i[0] for i in A]\n",
    "            ADJ[A[0][1], A[1][1]] += 1\n",
    "            ADJ[A[0][1], A[2][1]] += 1\n",
    "            ADJ[A[0][1], A[3][1]] += 1\n",
    "            ADJ[A[1][1], A[2][1]] += 1\n",
    "            ADJ[A[1][1], A[3][1]] += 1\n",
    "            ADJ[A[2][1], A[3][1]] += 1\n",
    "            Fvar += np.var(azinho)\n",
    "            tabela[A[0][1]][0] += 3\n",
    "            tabela[A[0][1]][1] += A[0][0]\n",
    "            tabela[A[1][1]][0] += 2\n",
    "            tabela[A[1][1]][1] += A[1][0]\n",
    "            tabela[A[2][1]][0] += 1\n",
    "            tabela[A[2][1]][1] += A[2][0]\n",
    "            tabela[A[3][1]][1] += A[3][0]\n",
    "    G = nx.from_numpy_matrix(ADJ, parallel_edges=True, create_using=nx.DiGraph())\n",
    "    PR = nx.pagerank(G, alpha=0.9)\n",
    "    tabelosa = [PR[duplas - i - 1] for i in range(duplas)]\n",
    "    return tabelosa"
   ]
  },
  {
   "cell_type": "code",
   "execution_count": 34,
   "metadata": {},
   "outputs": [
    {
     "data": {
      "text/plain": [
       "0.026402151367292334"
      ]
     },
     "execution_count": 34,
     "metadata": {},
     "output_type": "execute_result"
    }
   ],
   "source": [
    "F = [[] for i in range(duplas)]\n",
    "Fvar = 0\n",
    "clock = 0\n",
    "for i in range(teste):\n",
    "    tabela = campeonato_page_rank_paired_sem_rep(power, rodadas) #executa um campeonato e gera a tabela\n",
    "    tabela1 = [(tabela[i], i) for i in range(len(tabela))] #ordena\n",
    "    tabela1.sort(reverse=True)\n",
    "    n = 0\n",
    "    for item in tabela1:\n",
    "        F[item[1]].append(n)\n",
    "        n += 1\n",
    "Fvar/(teste*duplas) #mostra a variância média das partidas neste modelo de campeonato"
   ]
  },
  {
   "cell_type": "code",
   "execution_count": 35,
   "metadata": {},
   "outputs": [
    {
     "data": {
      "image/png": "[encoded data removed]",
      "text/plain": [
       "<Figure size 432x288 with 1 Axes>"
      ]
     },
     "metadata": {},
     "output_type": "display_data"
    }
   ],
   "source": [
    "f_ = [[(item - F.index(lista1))**2 for item in lista1] for lista1 in F]\n",
    "f = [(sum(item)/len(item), (np.var(f_[F.index(item)]))**0.5, F.index(item)) for item in F]\n",
    "plt.plot(f)\n",
    "plt.xlabel('Each team from 0 (the better) to 15 (the worst)')\n",
    "plt.title('Average position and standard deviation the error squared')\n",
    "plt.show()"
   ]
  },
  {
   "cell_type": "code",
   "execution_count": 36,
   "metadata": {},
   "outputs": [
    {
     "data": {
      "text/plain": [
       "1071.5966842057712"
      ]
     },
     "execution_count": 36,
     "metadata": {},
     "output_type": "execute_result"
    }
   ],
   "source": [
    "sum([(np.var(item))**0.5 for item in f_]) #Soma das variância dos erros com relação à posição correta"
   ]
  },
  {
   "cell_type": "code",
   "execution_count": 37,
   "metadata": {},
   "outputs": [
    {
     "data": {
      "text/plain": [
       "886.9359999999999"
      ]
     },
     "execution_count": 37,
     "metadata": {},
     "output_type": "execute_result"
    }
   ],
   "source": [
    "sum([np.average(item) for item in f_]) #Soma dos erros ao quadrado"
   ]
  },
  {
   "cell_type": "code",
   "execution_count": 38,
   "metadata": {},
   "outputs": [
    {
     "data": {
      "text/plain": [
       "15.48"
      ]
     },
     "execution_count": 38,
     "metadata": {},
     "output_type": "execute_result"
    }
   ],
   "source": [
    "f[15][0]+1#posição média do 16º time"
   ]
  },
  {
   "cell_type": "code",
   "execution_count": 39,
   "metadata": {},
   "outputs": [
    {
     "data": {
      "text/plain": [
       "28.2037922981999"
      ]
     },
     "execution_count": 39,
     "metadata": {},
     "output_type": "execute_result"
    }
   ],
   "source": [
    "(np.var(f_[15]))**0.5 #Desvio padrão do erro do 16º colocado com relação à posição correta."
   ]
  }
 ],
 "metadata": {
  "kernelspec": {
   "display_name": "Python 3",
   "language": "python",
   "name": "python3"
  },
  "language_info": {
   "codemirror_mode": {
    "name": "ipython",
    "version": 3
   },
   "file_extension": ".py",
   "mimetype": "text/x-python",
   "name": "python",
   "nbconvert_exporter": "python",
   "pygments_lexer": "ipython3",
   "version": "3.5.2"
  }
 },
 "nbformat": 4,
 "nbformat_minor": 2
}
